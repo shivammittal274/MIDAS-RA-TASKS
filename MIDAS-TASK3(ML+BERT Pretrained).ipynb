{
 "cells": [
  {
   "cell_type": "code",
   "execution_count": 1,
   "id": "burning-people",
   "metadata": {
    "_cell_guid": "b1076dfc-b9ad-4769-8c92-a6c4dae69d19",
    "_uuid": "8f2839f25d086af736a60e9eeb907d3b93b6e0e5",
    "execution": {
     "iopub.execute_input": "2021-04-09T10:05:53.309007Z",
     "iopub.status.busy": "2021-04-09T10:05:53.306936Z",
     "iopub.status.idle": "2021-04-09T10:05:55.281099Z",
     "shell.execute_reply": "2021-04-09T10:05:55.280354Z"
    },
    "papermill": {
     "duration": 2.019398,
     "end_time": "2021-04-09T10:05:55.281336",
     "exception": false,
     "start_time": "2021-04-09T10:05:53.261938",
     "status": "completed"
    },
    "tags": []
   },
   "outputs": [],
   "source": [
    "# This Python 3 environment comes with many helpful analytics libraries installed\n",
    "# It is defined by the kaggle/python Docker image: https://github.com/kaggle/docker-python\n",
    "# For example, here's several helpful packages to load\n",
    "\n",
    "import numpy as np # linear algebra\n",
    "import pandas as pd # data processing, CSV file I/O (e.g. pd.read_csv)\n",
    "import matplotlib.pyplot as plt\n",
    "import seaborn as sns\n",
    "\n",
    "import warnings\n",
    "warnings.filterwarnings(\"ignore\")\n",
    "import os\n",
    "import re \n",
    "import nltk \n",
    "from sklearn import preprocessing\n",
    "\n",
    "\n",
    "from sklearn.model_selection import train_test_split\n",
    "from sklearn.neighbors import KNeighborsClassifier \n",
    "from sklearn.tree import DecisionTreeClassifier\n",
    "from sklearn.naive_bayes import GaussianNB\n",
    "\n",
    "\n",
    "from sklearn.model_selection import train_test_split\n",
    "from sklearn.feature_extraction.text import CountVectorizer\n",
    "from sklearn.metrics import classification_report\n",
    "from sklearn.feature_extraction.text import TfidfVectorizer"
   ]
  },
  {
   "cell_type": "code",
   "execution_count": 2,
   "id": "bearing-respect",
   "metadata": {
    "execution": {
     "iopub.execute_input": "2021-04-09T10:05:55.379314Z",
     "iopub.status.busy": "2021-04-09T10:05:55.378548Z",
     "iopub.status.idle": "2021-04-09T10:05:56.220697Z",
     "shell.execute_reply": "2021-04-09T10:05:56.221274Z"
    },
    "papermill": {
     "duration": 0.901686,
     "end_time": "2021-04-09T10:05:56.221453",
     "exception": false,
     "start_time": "2021-04-09T10:05:55.319767",
     "status": "completed"
    },
    "tags": []
   },
   "outputs": [
    {
     "data": {
      "text/html": [
       "<div>\n",
       "<style scoped>\n",
       "    .dataframe tbody tr th:only-of-type {\n",
       "        vertical-align: middle;\n",
       "    }\n",
       "\n",
       "    .dataframe tbody tr th {\n",
       "        vertical-align: top;\n",
       "    }\n",
       "\n",
       "    .dataframe thead th {\n",
       "        text-align: right;\n",
       "    }\n",
       "</style>\n",
       "<table border=\"1\" class=\"dataframe\">\n",
       "  <thead>\n",
       "    <tr style=\"text-align: right;\">\n",
       "      <th></th>\n",
       "      <th>uniq_id</th>\n",
       "      <th>crawl_timestamp</th>\n",
       "      <th>product_url</th>\n",
       "      <th>product_name</th>\n",
       "      <th>product_category_tree</th>\n",
       "      <th>pid</th>\n",
       "      <th>retail_price</th>\n",
       "      <th>discounted_price</th>\n",
       "      <th>image</th>\n",
       "      <th>is_FK_Advantage_product</th>\n",
       "      <th>description</th>\n",
       "      <th>product_rating</th>\n",
       "      <th>overall_rating</th>\n",
       "      <th>brand</th>\n",
       "      <th>product_specifications</th>\n",
       "    </tr>\n",
       "  </thead>\n",
       "  <tbody>\n",
       "    <tr>\n",
       "      <th>0</th>\n",
       "      <td>c2d766ca982eca8304150849735ffef9</td>\n",
       "      <td>2016-03-25 22:59:23 +0000</td>\n",
       "      <td>http://www.flipkart.com/alisha-solid-women-s-c...</td>\n",
       "      <td>Alisha Solid Women's Cycling Shorts</td>\n",
       "      <td>[\"Clothing &gt;&gt; Women's Clothing &gt;&gt; Lingerie, Sl...</td>\n",
       "      <td>SRTEH2FF9KEDEFGF</td>\n",
       "      <td>999.0</td>\n",
       "      <td>379.0</td>\n",
       "      <td>[\"http://img5a.flixcart.com/image/short/u/4/a/...</td>\n",
       "      <td>False</td>\n",
       "      <td>Key Features of Alisha Solid Women's Cycling S...</td>\n",
       "      <td>No rating available</td>\n",
       "      <td>No rating available</td>\n",
       "      <td>Alisha</td>\n",
       "      <td>{\"product_specification\"=&gt;[{\"key\"=&gt;\"Number of ...</td>\n",
       "    </tr>\n",
       "    <tr>\n",
       "      <th>1</th>\n",
       "      <td>7f7036a6d550aaa89d34c77bd39a5e48</td>\n",
       "      <td>2016-03-25 22:59:23 +0000</td>\n",
       "      <td>http://www.flipkart.com/fabhomedecor-fabric-do...</td>\n",
       "      <td>FabHomeDecor Fabric Double Sofa Bed</td>\n",
       "      <td>[\"Furniture &gt;&gt; Living Room Furniture &gt;&gt; Sofa B...</td>\n",
       "      <td>SBEEH3QGU7MFYJFY</td>\n",
       "      <td>32157.0</td>\n",
       "      <td>22646.0</td>\n",
       "      <td>[\"http://img6a.flixcart.com/image/sofa-bed/j/f...</td>\n",
       "      <td>False</td>\n",
       "      <td>FabHomeDecor Fabric Double Sofa Bed (Finish Co...</td>\n",
       "      <td>No rating available</td>\n",
       "      <td>No rating available</td>\n",
       "      <td>FabHomeDecor</td>\n",
       "      <td>{\"product_specification\"=&gt;[{\"key\"=&gt;\"Installati...</td>\n",
       "    </tr>\n",
       "    <tr>\n",
       "      <th>2</th>\n",
       "      <td>f449ec65dcbc041b6ae5e6a32717d01b</td>\n",
       "      <td>2016-03-25 22:59:23 +0000</td>\n",
       "      <td>http://www.flipkart.com/aw-bellies/p/itmeh4grg...</td>\n",
       "      <td>AW Bellies</td>\n",
       "      <td>[\"Footwear &gt;&gt; Women's Footwear &gt;&gt; Ballerinas &gt;...</td>\n",
       "      <td>SHOEH4GRSUBJGZXE</td>\n",
       "      <td>999.0</td>\n",
       "      <td>499.0</td>\n",
       "      <td>[\"http://img5a.flixcart.com/image/shoe/7/z/z/r...</td>\n",
       "      <td>False</td>\n",
       "      <td>Key Features of AW Bellies Sandals Wedges Heel...</td>\n",
       "      <td>No rating available</td>\n",
       "      <td>No rating available</td>\n",
       "      <td>AW</td>\n",
       "      <td>{\"product_specification\"=&gt;[{\"key\"=&gt;\"Ideal For\"...</td>\n",
       "    </tr>\n",
       "    <tr>\n",
       "      <th>3</th>\n",
       "      <td>0973b37acd0c664e3de26e97e5571454</td>\n",
       "      <td>2016-03-25 22:59:23 +0000</td>\n",
       "      <td>http://www.flipkart.com/alisha-solid-women-s-c...</td>\n",
       "      <td>Alisha Solid Women's Cycling Shorts</td>\n",
       "      <td>[\"Clothing &gt;&gt; Women's Clothing &gt;&gt; Lingerie, Sl...</td>\n",
       "      <td>SRTEH2F6HUZMQ6SJ</td>\n",
       "      <td>699.0</td>\n",
       "      <td>267.0</td>\n",
       "      <td>[\"http://img5a.flixcart.com/image/short/6/2/h/...</td>\n",
       "      <td>False</td>\n",
       "      <td>Key Features of Alisha Solid Women's Cycling S...</td>\n",
       "      <td>No rating available</td>\n",
       "      <td>No rating available</td>\n",
       "      <td>Alisha</td>\n",
       "      <td>{\"product_specification\"=&gt;[{\"key\"=&gt;\"Number of ...</td>\n",
       "    </tr>\n",
       "    <tr>\n",
       "      <th>4</th>\n",
       "      <td>bc940ea42ee6bef5ac7cea3fb5cfbee7</td>\n",
       "      <td>2016-03-25 22:59:23 +0000</td>\n",
       "      <td>http://www.flipkart.com/sicons-all-purpose-arn...</td>\n",
       "      <td>Sicons All Purpose Arnica Dog Shampoo</td>\n",
       "      <td>[\"Pet Supplies &gt;&gt; Grooming &gt;&gt; Skin &amp; Coat Care...</td>\n",
       "      <td>PSOEH3ZYDMSYARJ5</td>\n",
       "      <td>220.0</td>\n",
       "      <td>210.0</td>\n",
       "      <td>[\"http://img5a.flixcart.com/image/pet-shampoo/...</td>\n",
       "      <td>False</td>\n",
       "      <td>Specifications of Sicons All Purpose Arnica Do...</td>\n",
       "      <td>No rating available</td>\n",
       "      <td>No rating available</td>\n",
       "      <td>Sicons</td>\n",
       "      <td>{\"product_specification\"=&gt;[{\"key\"=&gt;\"Pet Type\",...</td>\n",
       "    </tr>\n",
       "  </tbody>\n",
       "</table>\n",
       "</div>"
      ],
      "text/plain": [
       "                            uniq_id            crawl_timestamp  \\\n",
       "0  c2d766ca982eca8304150849735ffef9  2016-03-25 22:59:23 +0000   \n",
       "1  7f7036a6d550aaa89d34c77bd39a5e48  2016-03-25 22:59:23 +0000   \n",
       "2  f449ec65dcbc041b6ae5e6a32717d01b  2016-03-25 22:59:23 +0000   \n",
       "3  0973b37acd0c664e3de26e97e5571454  2016-03-25 22:59:23 +0000   \n",
       "4  bc940ea42ee6bef5ac7cea3fb5cfbee7  2016-03-25 22:59:23 +0000   \n",
       "\n",
       "                                         product_url  \\\n",
       "0  http://www.flipkart.com/alisha-solid-women-s-c...   \n",
       "1  http://www.flipkart.com/fabhomedecor-fabric-do...   \n",
       "2  http://www.flipkart.com/aw-bellies/p/itmeh4grg...   \n",
       "3  http://www.flipkart.com/alisha-solid-women-s-c...   \n",
       "4  http://www.flipkart.com/sicons-all-purpose-arn...   \n",
       "\n",
       "                            product_name  \\\n",
       "0    Alisha Solid Women's Cycling Shorts   \n",
       "1    FabHomeDecor Fabric Double Sofa Bed   \n",
       "2                             AW Bellies   \n",
       "3    Alisha Solid Women's Cycling Shorts   \n",
       "4  Sicons All Purpose Arnica Dog Shampoo   \n",
       "\n",
       "                               product_category_tree               pid  \\\n",
       "0  [\"Clothing >> Women's Clothing >> Lingerie, Sl...  SRTEH2FF9KEDEFGF   \n",
       "1  [\"Furniture >> Living Room Furniture >> Sofa B...  SBEEH3QGU7MFYJFY   \n",
       "2  [\"Footwear >> Women's Footwear >> Ballerinas >...  SHOEH4GRSUBJGZXE   \n",
       "3  [\"Clothing >> Women's Clothing >> Lingerie, Sl...  SRTEH2F6HUZMQ6SJ   \n",
       "4  [\"Pet Supplies >> Grooming >> Skin & Coat Care...  PSOEH3ZYDMSYARJ5   \n",
       "\n",
       "   retail_price  discounted_price  \\\n",
       "0         999.0             379.0   \n",
       "1       32157.0           22646.0   \n",
       "2         999.0             499.0   \n",
       "3         699.0             267.0   \n",
       "4         220.0             210.0   \n",
       "\n",
       "                                               image  is_FK_Advantage_product  \\\n",
       "0  [\"http://img5a.flixcart.com/image/short/u/4/a/...                    False   \n",
       "1  [\"http://img6a.flixcart.com/image/sofa-bed/j/f...                    False   \n",
       "2  [\"http://img5a.flixcart.com/image/shoe/7/z/z/r...                    False   \n",
       "3  [\"http://img5a.flixcart.com/image/short/6/2/h/...                    False   \n",
       "4  [\"http://img5a.flixcart.com/image/pet-shampoo/...                    False   \n",
       "\n",
       "                                         description       product_rating  \\\n",
       "0  Key Features of Alisha Solid Women's Cycling S...  No rating available   \n",
       "1  FabHomeDecor Fabric Double Sofa Bed (Finish Co...  No rating available   \n",
       "2  Key Features of AW Bellies Sandals Wedges Heel...  No rating available   \n",
       "3  Key Features of Alisha Solid Women's Cycling S...  No rating available   \n",
       "4  Specifications of Sicons All Purpose Arnica Do...  No rating available   \n",
       "\n",
       "        overall_rating         brand  \\\n",
       "0  No rating available        Alisha   \n",
       "1  No rating available  FabHomeDecor   \n",
       "2  No rating available            AW   \n",
       "3  No rating available        Alisha   \n",
       "4  No rating available        Sicons   \n",
       "\n",
       "                              product_specifications  \n",
       "0  {\"product_specification\"=>[{\"key\"=>\"Number of ...  \n",
       "1  {\"product_specification\"=>[{\"key\"=>\"Installati...  \n",
       "2  {\"product_specification\"=>[{\"key\"=>\"Ideal For\"...  \n",
       "3  {\"product_specification\"=>[{\"key\"=>\"Number of ...  \n",
       "4  {\"product_specification\"=>[{\"key\"=>\"Pet Type\",...  "
      ]
     },
     "execution_count": 2,
     "metadata": {},
     "output_type": "execute_result"
    }
   ],
   "source": [
    "#Reading data\n",
    "data=pd.read_csv(\"../input/flipkarttask/flipkart_com-ecommerce_sample - flipkart_com-ecommerce_sample - flipkart_com-ecommerce_sample.csv\")\n",
    "data.head(5)"
   ]
  },
  {
   "cell_type": "code",
   "execution_count": 3,
   "id": "imported-teach",
   "metadata": {
    "execution": {
     "iopub.execute_input": "2021-04-09T10:05:56.328737Z",
     "iopub.status.busy": "2021-04-09T10:05:56.327614Z",
     "iopub.status.idle": "2021-04-09T10:05:56.336398Z",
     "shell.execute_reply": "2021-04-09T10:05:56.336964Z"
    },
    "papermill": {
     "duration": 0.076665,
     "end_time": "2021-04-09T10:05:56.337188",
     "exception": false,
     "start_time": "2021-04-09T10:05:56.260523",
     "status": "completed"
    },
    "tags": []
   },
   "outputs": [
    {
     "data": {
      "text/plain": [
       "uniq_id                       0\n",
       "crawl_timestamp               0\n",
       "product_url                   0\n",
       "product_name                  0\n",
       "product_category_tree         0\n",
       "pid                           0\n",
       "retail_price                 78\n",
       "discounted_price             78\n",
       "image                         3\n",
       "is_FK_Advantage_product       0\n",
       "description                   2\n",
       "product_rating                0\n",
       "overall_rating                0\n",
       "brand                      5864\n",
       "product_specifications       14\n",
       "dtype: int64"
      ]
     },
     "execution_count": 3,
     "metadata": {},
     "output_type": "execute_result"
    }
   ],
   "source": [
    "#Checking nulls in data\n",
    "data.isnull().sum()"
   ]
  },
  {
   "cell_type": "code",
   "execution_count": 4,
   "id": "junior-ukraine",
   "metadata": {
    "execution": {
     "iopub.execute_input": "2021-04-09T10:05:56.425557Z",
     "iopub.status.busy": "2021-04-09T10:05:56.423377Z",
     "iopub.status.idle": "2021-04-09T10:05:56.427903Z",
     "shell.execute_reply": "2021-04-09T10:05:56.428459Z"
    },
    "papermill": {
     "duration": 0.051905,
     "end_time": "2021-04-09T10:05:56.428647",
     "exception": false,
     "start_time": "2021-04-09T10:05:56.376742",
     "status": "completed"
    },
    "tags": []
   },
   "outputs": [
    {
     "data": {
      "text/plain": [
       "uniq_id                     object\n",
       "crawl_timestamp             object\n",
       "product_url                 object\n",
       "product_name                object\n",
       "product_category_tree       object\n",
       "pid                         object\n",
       "retail_price               float64\n",
       "discounted_price           float64\n",
       "image                       object\n",
       "is_FK_Advantage_product       bool\n",
       "description                 object\n",
       "product_rating              object\n",
       "overall_rating              object\n",
       "brand                       object\n",
       "product_specifications      object\n",
       "dtype: object"
      ]
     },
     "execution_count": 4,
     "metadata": {},
     "output_type": "execute_result"
    }
   ],
   "source": [
    "data.dtypes"
   ]
  },
  {
   "cell_type": "code",
   "execution_count": null,
   "id": "celtic-still",
   "metadata": {
    "papermill": {
     "duration": 0.038339,
     "end_time": "2021-04-09T10:05:56.505464",
     "exception": false,
     "start_time": "2021-04-09T10:05:56.467125",
     "status": "completed"
    },
    "tags": []
   },
   "outputs": [],
   "source": []
  },
  {
   "cell_type": "code",
   "execution_count": 5,
   "id": "hired-tracker",
   "metadata": {
    "execution": {
     "iopub.execute_input": "2021-04-09T10:05:56.594665Z",
     "iopub.status.busy": "2021-04-09T10:05:56.592906Z",
     "iopub.status.idle": "2021-04-09T10:05:56.595427Z",
     "shell.execute_reply": "2021-04-09T10:05:56.596057Z"
    },
    "papermill": {
     "duration": 0.052337,
     "end_time": "2021-04-09T10:05:56.596231",
     "exception": false,
     "start_time": "2021-04-09T10:05:56.543894",
     "status": "completed"
    },
    "tags": []
   },
   "outputs": [],
   "source": [
    "import string\n",
    "def preprocess_string(text):\n",
    "    '''\n",
    "    input: str_arg --> Takes string to clean\n",
    "    output: combined_text --> Gives back cleaned string\n",
    "    This fuction cleans the text in the mentioned ways as comments after the line.This has been copied from some other kernel.\n",
    "\n",
    "    '''\n",
    "    text = text.lower()\n",
    "    text = re.sub('\\[.*?\\]', '', text)\n",
    "    text = re.sub('https?://\\S+|www\\.\\S+', '', text)\n",
    "    text = re.sub('<.*?>+', '', text)\n",
    "    text = re.sub('[%s]' % re.escape(string.punctuation), '', text)\n",
    "    text = re.sub('\\n', '', text)\n",
    "    text = re.sub('\\w*\\d\\w*', '', text)\n",
    "    tokenizer = nltk.tokenize.RegexpTokenizer(r'\\w+')\n",
    "    tokenized_text = tokenizer.tokenize(text)\n",
    "    combined_text = ' '.join(tokenized_text)\n",
    "    \n",
    "    return combined_text\n"
   ]
  },
  {
   "cell_type": "code",
   "execution_count": 6,
   "id": "closing-taiwan",
   "metadata": {
    "execution": {
     "iopub.execute_input": "2021-04-09T10:05:56.768198Z",
     "iopub.status.busy": "2021-04-09T10:05:56.766953Z",
     "iopub.status.idle": "2021-04-09T10:05:56.809408Z",
     "shell.execute_reply": "2021-04-09T10:05:56.810834Z"
    },
    "papermill": {
     "duration": 0.134552,
     "end_time": "2021-04-09T10:05:56.811097",
     "exception": false,
     "start_time": "2021-04-09T10:05:56.676545",
     "status": "completed"
    },
    "tags": []
   },
   "outputs": [],
   "source": [
    "# Reading relevant data\n",
    "data['product_category_tree'] = data['product_category_tree'].apply(lambda x : x.split('>>')[0][2:].strip())"
   ]
  },
  {
   "cell_type": "code",
   "execution_count": 7,
   "id": "olympic-simon",
   "metadata": {
    "execution": {
     "iopub.execute_input": "2021-04-09T10:05:57.003384Z",
     "iopub.status.busy": "2021-04-09T10:05:57.002374Z",
     "iopub.status.idle": "2021-04-09T10:05:57.012866Z",
     "shell.execute_reply": "2021-04-09T10:05:57.014234Z"
    },
    "papermill": {
     "duration": 0.111211,
     "end_time": "2021-04-09T10:05:57.014479",
     "exception": false,
     "start_time": "2021-04-09T10:05:56.903268",
     "status": "completed"
    },
    "tags": []
   },
   "outputs": [],
   "source": [
    "d=data[\"product_category_tree\"].value_counts().to_dict()\n",
    "lists = (d.items()) # sorted by key, return a list of tuples"
   ]
  },
  {
   "cell_type": "code",
   "execution_count": 8,
   "id": "direct-saying",
   "metadata": {
    "execution": {
     "iopub.execute_input": "2021-04-09T10:05:57.174483Z",
     "iopub.status.busy": "2021-04-09T10:05:57.173413Z",
     "iopub.status.idle": "2021-04-09T10:06:05.042747Z",
     "shell.execute_reply": "2021-04-09T10:06:05.042129Z"
    },
    "papermill": {
     "duration": 7.954403,
     "end_time": "2021-04-09T10:06:05.042904",
     "exception": false,
     "start_time": "2021-04-09T10:05:57.088501",
     "status": "completed"
    },
    "tags": []
   },
   "outputs": [
    {
     "data": {
      "image/png": "[encoded data removed]",
      "text/plain": [
       "<Figure size 432x288 with 1 Axes>"
      ]
     },
     "metadata": {
      "needs_background": "light"
     },
     "output_type": "display_data"
    }
   ],
   "source": [
    "import matplotlib.pylab as plt\n",
    "x, y = zip(*lists) # unpack a list of pairs into two tuples\n",
    "\n",
    "plt.plot(x, y)\n",
    "plt.show()"
   ]
  },
  {
   "cell_type": "code",
   "execution_count": 9,
   "id": "minor-apparel",
   "metadata": {
    "execution": {
     "iopub.execute_input": "2021-04-09T10:06:05.130920Z",
     "iopub.status.busy": "2021-04-09T10:06:05.130192Z",
     "iopub.status.idle": "2021-04-09T10:06:05.511625Z",
     "shell.execute_reply": "2021-04-09T10:06:05.511066Z"
    },
    "papermill": {
     "duration": 0.42811,
     "end_time": "2021-04-09T10:06:05.511865",
     "exception": false,
     "start_time": "2021-04-09T10:06:05.083755",
     "status": "completed"
    },
    "tags": []
   },
   "outputs": [
    {
     "data": {
      "text/plain": [
       "<AxesSubplot:>"
      ]
     },
     "execution_count": 9,
     "metadata": {},
     "output_type": "execute_result"
    },
    {
     "data": {
      "image/png": "[encoded data removed]",
      "text/plain": [
       "<Figure size 432x288 with 1 Axes>"
      ]
     },
     "metadata": {
      "needs_background": "light"
     },
     "output_type": "display_data"
    }
   ],
   "source": [
    "top_20_gen = list(data.groupby('product_category_tree').count().sort_values(by='uniq_id',ascending=False).head(20).index)\n",
    "\n",
    "processed_df = data[data['product_category_tree'].isin(top_20_gen)][['product_category_tree','description']]\n",
    "processed_df['product_category_tree'].value_counts().plot(kind='bar')"
   ]
  },
  {
   "cell_type": "code",
   "execution_count": 10,
   "id": "activated-bread",
   "metadata": {
    "execution": {
     "iopub.execute_input": "2021-04-09T10:06:05.608627Z",
     "iopub.status.busy": "2021-04-09T10:06:05.607479Z",
     "iopub.status.idle": "2021-04-09T10:06:05.612665Z",
     "shell.execute_reply": "2021-04-09T10:06:05.612109Z"
    },
    "papermill": {
     "duration": 0.058702,
     "end_time": "2021-04-09T10:06:05.612852",
     "exception": false,
     "start_time": "2021-04-09T10:06:05.554150",
     "status": "completed"
    },
    "tags": []
   },
   "outputs": [
    {
     "data": {
      "text/plain": [
       "Clothing                      6198\n",
       "Jewellery                     3531\n",
       "Footwear                      1227\n",
       "Mobiles & Accessories         1099\n",
       "Automotive                    1012\n",
       "Home Decor & Festive Needs     929\n",
       "Beauty and Personal Care       710\n",
       "Home Furnishing                700\n",
       "Kitchen & Dining               647\n",
       "Computers                      578\n",
       "Watches                        530\n",
       "Baby Care                      483\n",
       "Tools & Hardware               391\n",
       "Toys & School Supplies         330\n",
       "Pens & Stationery              313\n",
       "Bags, Wallets & Belts          265\n",
       "Furniture                      180\n",
       "Sports & Fitness               166\n",
       "Cameras & Accessories           82\n",
       "Home Improvement                81\n",
       "Name: product_category_tree, dtype: int64"
      ]
     },
     "execution_count": 10,
     "metadata": {},
     "output_type": "execute_result"
    }
   ],
   "source": [
    "processed_df['product_category_tree'].value_counts()"
   ]
  },
  {
   "cell_type": "code",
   "execution_count": 11,
   "id": "armed-provincial",
   "metadata": {
    "execution": {
     "iopub.execute_input": "2021-04-09T10:06:05.711921Z",
     "iopub.status.busy": "2021-04-09T10:06:05.710849Z",
     "iopub.status.idle": "2021-04-09T10:06:10.151415Z",
     "shell.execute_reply": "2021-04-09T10:06:10.152982Z"
    },
    "papermill": {
     "duration": 4.498152,
     "end_time": "2021-04-09T10:06:10.153264",
     "exception": false,
     "start_time": "2021-04-09T10:06:05.655112",
     "status": "completed"
    },
    "tags": []
   },
   "outputs": [
    {
     "name": "stdout",
     "output_type": "stream",
     "text": [
      "['Clothing', 'Footwear', 'Pens & Stationery', 'Beauty and Personal Care', 'Home Decor & Festive Needs', 'Automotive', 'Tools & Hardware', 'Home Furnishing', 'Baby Care', 'Mobiles & Accessories', 'Watches', 'Toys & School Supplies', 'Jewellery', 'Kitchen & Dining', 'Computers']\n"
     ]
    }
   ],
   "source": [
    "# Category processing. (Check data to understand)\n",
    "# Taking most popular 15 items only\n",
    "top_15_gen = list(data.groupby('product_category_tree').count().sort_values(by='uniq_id',ascending=False).head(15).index)\n",
    "# Taking only top 15 categories for example sake\n",
    "processed_df = data[data['product_category_tree'].isin(top_15_gen)][['product_category_tree','description']]\n",
    "# Selecting only relevant columns\n",
    "processed_df['description'] = data['description'].astype('str').apply(preprocess_string)\n",
    "# Cleaning strings\n",
    "cat_list = list(processed_df['product_category_tree'].unique())\n",
    "# Creating a list of categories for later use\n",
    "print(cat_list)\n",
    "# Printing the list of top 5 categories\n",
    "le = preprocessing.LabelEncoder()\n",
    "category_encoded=le.fit_transform(processed_df['product_category_tree'])\n",
    "processed_df['product_category_tree'] = category_encoded\n",
    "# Encoding the product category"
   ]
  },
  {
   "cell_type": "code",
   "execution_count": 12,
   "id": "general-suite",
   "metadata": {
    "execution": {
     "iopub.execute_input": "2021-04-09T10:06:10.306279Z",
     "iopub.status.busy": "2021-04-09T10:06:10.305244Z",
     "iopub.status.idle": "2021-04-09T10:06:10.311774Z",
     "shell.execute_reply": "2021-04-09T10:06:10.312560Z"
    },
    "papermill": {
     "duration": 0.087666,
     "end_time": "2021-04-09T10:06:10.312889",
     "exception": false,
     "start_time": "2021-04-09T10:06:10.225223",
     "status": "completed"
    },
    "tags": []
   },
   "outputs": [
    {
     "data": {
      "text/plain": [
       "(15,)"
      ]
     },
     "execution_count": 12,
     "metadata": {},
     "output_type": "execute_result"
    }
   ],
   "source": [
    "processed_df[\"product_category_tree\"].unique().shape"
   ]
  },
  {
   "cell_type": "code",
   "execution_count": 13,
   "id": "searching-company",
   "metadata": {
    "execution": {
     "iopub.execute_input": "2021-04-09T10:06:10.471015Z",
     "iopub.status.busy": "2021-04-09T10:06:10.470027Z",
     "iopub.status.idle": "2021-04-09T10:06:10.481568Z",
     "shell.execute_reply": "2021-04-09T10:06:10.482834Z"
    },
    "papermill": {
     "duration": 0.09892,
     "end_time": "2021-04-09T10:06:10.483057",
     "exception": false,
     "start_time": "2021-04-09T10:06:10.384137",
     "status": "completed"
    },
    "tags": []
   },
   "outputs": [
    {
     "data": {
      "text/html": [
       "<div>\n",
       "<style scoped>\n",
       "    .dataframe tbody tr th:only-of-type {\n",
       "        vertical-align: middle;\n",
       "    }\n",
       "\n",
       "    .dataframe tbody tr th {\n",
       "        vertical-align: top;\n",
       "    }\n",
       "\n",
       "    .dataframe thead th {\n",
       "        text-align: right;\n",
       "    }\n",
       "</style>\n",
       "<table border=\"1\" class=\"dataframe\">\n",
       "  <thead>\n",
       "    <tr style=\"text-align: right;\">\n",
       "      <th></th>\n",
       "      <th>product_category_tree</th>\n",
       "      <th>description</th>\n",
       "    </tr>\n",
       "  </thead>\n",
       "  <tbody>\n",
       "    <tr>\n",
       "      <th>0</th>\n",
       "      <td>3</td>\n",
       "      <td>key features of alisha solid womens cycling sh...</td>\n",
       "    </tr>\n",
       "    <tr>\n",
       "      <th>2</th>\n",
       "      <td>5</td>\n",
       "      <td>key features of aw bellies sandals wedges heel...</td>\n",
       "    </tr>\n",
       "    <tr>\n",
       "      <th>3</th>\n",
       "      <td>3</td>\n",
       "      <td>key features of alisha solid womens cycling sh...</td>\n",
       "    </tr>\n",
       "    <tr>\n",
       "      <th>6</th>\n",
       "      <td>3</td>\n",
       "      <td>key features of alisha solid womens cycling sh...</td>\n",
       "    </tr>\n",
       "    <tr>\n",
       "      <th>8</th>\n",
       "      <td>5</td>\n",
       "      <td>key features of dilli bazaaar bellies corporat...</td>\n",
       "    </tr>\n",
       "    <tr>\n",
       "      <th>...</th>\n",
       "      <td>...</td>\n",
       "      <td>...</td>\n",
       "    </tr>\n",
       "    <tr>\n",
       "      <th>19995</th>\n",
       "      <td>1</td>\n",
       "      <td>buy walldesign small vinyl sticker for online ...</td>\n",
       "    </tr>\n",
       "    <tr>\n",
       "      <th>19996</th>\n",
       "      <td>1</td>\n",
       "      <td>buy wallmantra large vinyl stickers sticker fo...</td>\n",
       "    </tr>\n",
       "    <tr>\n",
       "      <th>19997</th>\n",
       "      <td>1</td>\n",
       "      <td>buy elite collection medium acrylic sticker fo...</td>\n",
       "    </tr>\n",
       "    <tr>\n",
       "      <th>19998</th>\n",
       "      <td>1</td>\n",
       "      <td>buy elite collection medium acrylic sticker fo...</td>\n",
       "    </tr>\n",
       "    <tr>\n",
       "      <th>19999</th>\n",
       "      <td>1</td>\n",
       "      <td>buy elite collection medium acrylic sticker fo...</td>\n",
       "    </tr>\n",
       "  </tbody>\n",
       "</table>\n",
       "<p>18678 rows × 2 columns</p>\n",
       "</div>"
      ],
      "text/plain": [
       "       product_category_tree  \\\n",
       "0                          3   \n",
       "2                          5   \n",
       "3                          3   \n",
       "6                          3   \n",
       "8                          5   \n",
       "...                      ...   \n",
       "19995                      1   \n",
       "19996                      1   \n",
       "19997                      1   \n",
       "19998                      1   \n",
       "19999                      1   \n",
       "\n",
       "                                             description  \n",
       "0      key features of alisha solid womens cycling sh...  \n",
       "2      key features of aw bellies sandals wedges heel...  \n",
       "3      key features of alisha solid womens cycling sh...  \n",
       "6      key features of alisha solid womens cycling sh...  \n",
       "8      key features of dilli bazaaar bellies corporat...  \n",
       "...                                                  ...  \n",
       "19995  buy walldesign small vinyl sticker for online ...  \n",
       "19996  buy wallmantra large vinyl stickers sticker fo...  \n",
       "19997  buy elite collection medium acrylic sticker fo...  \n",
       "19998  buy elite collection medium acrylic sticker fo...  \n",
       "19999  buy elite collection medium acrylic sticker fo...  \n",
       "\n",
       "[18678 rows x 2 columns]"
      ]
     },
     "execution_count": 13,
     "metadata": {},
     "output_type": "execute_result"
    }
   ],
   "source": [
    "processed_df"
   ]
  },
  {
   "cell_type": "code",
   "execution_count": 14,
   "id": "consolidated-north",
   "metadata": {
    "execution": {
     "iopub.execute_input": "2021-04-09T10:06:10.635324Z",
     "iopub.status.busy": "2021-04-09T10:06:10.634315Z",
     "iopub.status.idle": "2021-04-09T10:06:16.097544Z",
     "shell.execute_reply": "2021-04-09T10:06:16.098178Z"
    },
    "papermill": {
     "duration": 5.543218,
     "end_time": "2021-04-09T10:06:16.098369",
     "exception": false,
     "start_time": "2021-04-09T10:06:10.555151",
     "status": "completed"
    },
    "tags": []
   },
   "outputs": [
    {
     "data": {
      "text/plain": [
       "<matplotlib.image.AxesImage at 0x7f4405429810>"
      ]
     },
     "execution_count": 14,
     "metadata": {},
     "output_type": "execute_result"
    },
    {
     "data": {
      "image/png": "[encoded data removed]",
      "text/plain": [
       "<Figure size 432x288 with 1 Axes>"
      ]
     },
     "metadata": {
      "needs_background": "light"
     },
     "output_type": "display_data"
    }
   ],
   "source": [
    "# Plotting WordCloud of whole description to see which words are more repeated and hold more value\n",
    "from wordcloud import WordCloud\n",
    "cleaned_text=processed_df.description.values\n",
    "wordcloud = WordCloud( background_color='white',\n",
    "                        width=600,\n",
    "                        height=400).generate(\" \".join(cleaned_text))\n",
    "plt.imshow(wordcloud)"
   ]
  },
  {
   "cell_type": "code",
   "execution_count": 15,
   "id": "civilian-warning",
   "metadata": {
    "execution": {
     "iopub.execute_input": "2021-04-09T10:06:16.228328Z",
     "iopub.status.busy": "2021-04-09T10:06:16.217888Z",
     "iopub.status.idle": "2021-04-09T10:06:16.729950Z",
     "shell.execute_reply": "2021-04-09T10:06:16.729068Z"
    },
    "papermill": {
     "duration": 0.582934,
     "end_time": "2021-04-09T10:06:16.730100",
     "exception": false,
     "start_time": "2021-04-09T10:06:16.147166",
     "status": "completed"
    },
    "tags": []
   },
   "outputs": [
    {
     "data": {
      "text/html": [
       "<style  type=\"text/css\" >\n",
       "#T_3929e1ba_991b_11eb_8fda_0242ac130202row0_col1,#T_3929e1ba_991b_11eb_8fda_0242ac130202row1_col1{\n",
       "            background-color:  #08306b;\n",
       "            color:  #f1f1f1;\n",
       "        }#T_3929e1ba_991b_11eb_8fda_0242ac130202row2_col1{\n",
       "            background-color:  #4a98c9;\n",
       "            color:  #000000;\n",
       "        }#T_3929e1ba_991b_11eb_8fda_0242ac130202row3_col1{\n",
       "            background-color:  #58a1cf;\n",
       "            color:  #000000;\n",
       "        }#T_3929e1ba_991b_11eb_8fda_0242ac130202row4_col1{\n",
       "            background-color:  #5ca4d0;\n",
       "            color:  #000000;\n",
       "        }#T_3929e1ba_991b_11eb_8fda_0242ac130202row5_col1{\n",
       "            background-color:  #99c7e0;\n",
       "            color:  #000000;\n",
       "        }#T_3929e1ba_991b_11eb_8fda_0242ac130202row6_col1{\n",
       "            background-color:  #c2d9ee;\n",
       "            color:  #000000;\n",
       "        }#T_3929e1ba_991b_11eb_8fda_0242ac130202row7_col1{\n",
       "            background-color:  #d2e3f3;\n",
       "            color:  #000000;\n",
       "        }#T_3929e1ba_991b_11eb_8fda_0242ac130202row8_col1{\n",
       "            background-color:  #d4e4f4;\n",
       "            color:  #000000;\n",
       "        }#T_3929e1ba_991b_11eb_8fda_0242ac130202row9_col1{\n",
       "            background-color:  #e5eff9;\n",
       "            color:  #000000;\n",
       "        }#T_3929e1ba_991b_11eb_8fda_0242ac130202row10_col1{\n",
       "            background-color:  #e6f0f9;\n",
       "            color:  #000000;\n",
       "        }#T_3929e1ba_991b_11eb_8fda_0242ac130202row11_col1{\n",
       "            background-color:  #e7f1fa;\n",
       "            color:  #000000;\n",
       "        }#T_3929e1ba_991b_11eb_8fda_0242ac130202row12_col1{\n",
       "            background-color:  #f4f9fe;\n",
       "            color:  #000000;\n",
       "        }#T_3929e1ba_991b_11eb_8fda_0242ac130202row13_col1{\n",
       "            background-color:  #f5fafe;\n",
       "            color:  #000000;\n",
       "        }#T_3929e1ba_991b_11eb_8fda_0242ac130202row14_col1{\n",
       "            background-color:  #f7fbff;\n",
       "            color:  #000000;\n",
       "        }</style><table id=\"T_3929e1ba_991b_11eb_8fda_0242ac130202\" ><thead>    <tr>        <th class=\"blank level0\" ></th>        <th class=\"col_heading level0 col0\" >Common_words</th>        <th class=\"col_heading level0 col1\" >count</th>    </tr></thead><tbody>\n",
       "                <tr>\n",
       "                        <th id=\"T_3929e1ba_991b_11eb_8fda_0242ac130202level0_row0\" class=\"row_heading level0 row0\" >0</th>\n",
       "                        <td id=\"T_3929e1ba_991b_11eb_8fda_0242ac130202row0_col0\" class=\"data row0 col0\" >of</td>\n",
       "                        <td id=\"T_3929e1ba_991b_11eb_8fda_0242ac130202row0_col1\" class=\"data row0 col1\" >28223</td>\n",
       "            </tr>\n",
       "            <tr>\n",
       "                        <th id=\"T_3929e1ba_991b_11eb_8fda_0242ac130202level0_row1\" class=\"row_heading level0 row1\" >1</th>\n",
       "                        <td id=\"T_3929e1ba_991b_11eb_8fda_0242ac130202row1_col0\" class=\"data row1 col0\" >for</td>\n",
       "                        <td id=\"T_3929e1ba_991b_11eb_8fda_0242ac130202row1_col1\" class=\"data row1 col1\" >28219</td>\n",
       "            </tr>\n",
       "            <tr>\n",
       "                        <th id=\"T_3929e1ba_991b_11eb_8fda_0242ac130202level0_row2\" class=\"row_heading level0 row2\" >2</th>\n",
       "                        <td id=\"T_3929e1ba_991b_11eb_8fda_0242ac130202row2_col0\" class=\"data row2 col0\" >the</td>\n",
       "                        <td id=\"T_3929e1ba_991b_11eb_8fda_0242ac130202row2_col1\" class=\"data row2 col1\" >20687</td>\n",
       "            </tr>\n",
       "            <tr>\n",
       "                        <th id=\"T_3929e1ba_991b_11eb_8fda_0242ac130202level0_row3\" class=\"row_heading level0 row3\" >3</th>\n",
       "                        <td id=\"T_3929e1ba_991b_11eb_8fda_0242ac130202row3_col0\" class=\"data row3 col0\" >and</td>\n",
       "                        <td id=\"T_3929e1ba_991b_11eb_8fda_0242ac130202row3_col1\" class=\"data row3 col1\" >19881</td>\n",
       "            </tr>\n",
       "            <tr>\n",
       "                        <th id=\"T_3929e1ba_991b_11eb_8fda_0242ac130202level0_row4\" class=\"row_heading level0 row4\" >4</th>\n",
       "                        <td id=\"T_3929e1ba_991b_11eb_8fda_0242ac130202row4_col0\" class=\"data row4 col0\" >only</td>\n",
       "                        <td id=\"T_3929e1ba_991b_11eb_8fda_0242ac130202row4_col1\" class=\"data row4 col1\" >19709</td>\n",
       "            </tr>\n",
       "            <tr>\n",
       "                        <th id=\"T_3929e1ba_991b_11eb_8fda_0242ac130202level0_row5\" class=\"row_heading level0 row5\" >5</th>\n",
       "                        <td id=\"T_3929e1ba_991b_11eb_8fda_0242ac130202row5_col0\" class=\"data row5 col0\" >in</td>\n",
       "                        <td id=\"T_3929e1ba_991b_11eb_8fda_0242ac130202row5_col1\" class=\"data row5 col1\" >16792</td>\n",
       "            </tr>\n",
       "            <tr>\n",
       "                        <th id=\"T_3929e1ba_991b_11eb_8fda_0242ac130202level0_row6\" class=\"row_heading level0 row6\" >6</th>\n",
       "                        <td id=\"T_3929e1ba_991b_11eb_8fda_0242ac130202row6_col0\" class=\"data row6 col0\" >rs</td>\n",
       "                        <td id=\"T_3929e1ba_991b_11eb_8fda_0242ac130202row6_col1\" class=\"data row6 col1\" >14409</td>\n",
       "            </tr>\n",
       "            <tr>\n",
       "                        <th id=\"T_3929e1ba_991b_11eb_8fda_0242ac130202level0_row7\" class=\"row_heading level0 row7\" >7</th>\n",
       "                        <td id=\"T_3929e1ba_991b_11eb_8fda_0242ac130202row7_col0\" class=\"data row7 col0\" >to</td>\n",
       "                        <td id=\"T_3929e1ba_991b_11eb_8fda_0242ac130202row7_col1\" class=\"data row7 col1\" >13005</td>\n",
       "            </tr>\n",
       "            <tr>\n",
       "                        <th id=\"T_3929e1ba_991b_11eb_8fda_0242ac130202level0_row8\" class=\"row_heading level0 row8\" >8</th>\n",
       "                        <td id=\"T_3929e1ba_991b_11eb_8fda_0242ac130202row8_col0\" class=\"data row8 col0\" >with</td>\n",
       "                        <td id=\"T_3929e1ba_991b_11eb_8fda_0242ac130202row8_col1\" class=\"data row8 col1\" >12823</td>\n",
       "            </tr>\n",
       "            <tr>\n",
       "                        <th id=\"T_3929e1ba_991b_11eb_8fda_0242ac130202level0_row9\" class=\"row_heading level0 row9\" >9</th>\n",
       "                        <td id=\"T_3929e1ba_991b_11eb_8fda_0242ac130202row9_col0\" class=\"data row9 col0\" >on</td>\n",
       "                        <td id=\"T_3929e1ba_991b_11eb_8fda_0242ac130202row9_col1\" class=\"data row9 col1\" >11212</td>\n",
       "            </tr>\n",
       "            <tr>\n",
       "                        <th id=\"T_3929e1ba_991b_11eb_8fda_0242ac130202level0_row10\" class=\"row_heading level0 row10\" >10</th>\n",
       "                        <td id=\"T_3929e1ba_991b_11eb_8fda_0242ac130202row10_col0\" class=\"data row10 col0\" >a</td>\n",
       "                        <td id=\"T_3929e1ba_991b_11eb_8fda_0242ac130202row10_col1\" class=\"data row10 col1\" >11146</td>\n",
       "            </tr>\n",
       "            <tr>\n",
       "                        <th id=\"T_3929e1ba_991b_11eb_8fda_0242ac130202level0_row11\" class=\"row_heading level0 row11\" >11</th>\n",
       "                        <td id=\"T_3929e1ba_991b_11eb_8fda_0242ac130202row11_col0\" class=\"data row11 col0\" >buy</td>\n",
       "                        <td id=\"T_3929e1ba_991b_11eb_8fda_0242ac130202row11_col1\" class=\"data row11 col1\" >10965</td>\n",
       "            </tr>\n",
       "            <tr>\n",
       "                        <th id=\"T_3929e1ba_991b_11eb_8fda_0242ac130202level0_row12\" class=\"row_heading level0 row12\" >12</th>\n",
       "                        <td id=\"T_3929e1ba_991b_11eb_8fda_0242ac130202row12_col0\" class=\"data row12 col0\" >flipkartcom</td>\n",
       "                        <td id=\"T_3929e1ba_991b_11eb_8fda_0242ac130202row12_col1\" class=\"data row12 col1\" >9842</td>\n",
       "            </tr>\n",
       "            <tr>\n",
       "                        <th id=\"T_3929e1ba_991b_11eb_8fda_0242ac130202level0_row13\" class=\"row_heading level0 row13\" >13</th>\n",
       "                        <td id=\"T_3929e1ba_991b_11eb_8fda_0242ac130202row13_col0\" class=\"data row13 col0\" >online</td>\n",
       "                        <td id=\"T_3929e1ba_991b_11eb_8fda_0242ac130202row13_col1\" class=\"data row13 col1\" >9668</td>\n",
       "            </tr>\n",
       "            <tr>\n",
       "                        <th id=\"T_3929e1ba_991b_11eb_8fda_0242ac130202level0_row14\" class=\"row_heading level0 row14\" >14</th>\n",
       "                        <td id=\"T_3929e1ba_991b_11eb_8fda_0242ac130202row14_col0\" class=\"data row14 col0\" >from</td>\n",
       "                        <td id=\"T_3929e1ba_991b_11eb_8fda_0242ac130202row14_col1\" class=\"data row14 col1\" >9479</td>\n",
       "            </tr>\n",
       "    </tbody></table>"
      ],
      "text/plain": [
       "<pandas.io.formats.style.Styler at 0x7f4405de1050>"
      ]
     },
     "execution_count": 15,
     "metadata": {},
     "output_type": "execute_result"
    }
   ],
   "source": [
    "from collections import Counter\n",
    "processed_df['temp_list'] =processed_df['description'].apply(lambda x:str(x).split())\n",
    "top = Counter([item for sublist in processed_df['temp_list'] for item in sublist])\n",
    "temp = pd.DataFrame(top.most_common(15))\n",
    "temp.columns = ['Common_words','count']\n",
    "temp.style.background_gradient(cmap='Blues')"
   ]
  },
  {
   "cell_type": "code",
   "execution_count": null,
   "id": "static-mortgage",
   "metadata": {
    "papermill": {
     "duration": 0.049092,
     "end_time": "2021-04-09T10:06:16.829431",
     "exception": false,
     "start_time": "2021-04-09T10:06:16.780339",
     "status": "completed"
    },
    "tags": []
   },
   "outputs": [],
   "source": []
  },
  {
   "cell_type": "markdown",
   "id": "pleased-simpson",
   "metadata": {
    "papermill": {
     "duration": 0.048863,
     "end_time": "2021-04-09T10:06:16.927993",
     "exception": false,
     "start_time": "2021-04-09T10:06:16.879130",
     "status": "completed"
    },
    "tags": []
   },
   "source": [
    "Since we have to predcit product primary category using product description only.. So applying our NLP knowledge:)"
   ]
  },
  {
   "cell_type": "code",
   "execution_count": 16,
   "id": "italian-equipment",
   "metadata": {
    "execution": {
     "iopub.execute_input": "2021-04-09T10:06:17.035008Z",
     "iopub.status.busy": "2021-04-09T10:06:17.033926Z",
     "iopub.status.idle": "2021-04-09T10:06:17.043168Z",
     "shell.execute_reply": "2021-04-09T10:06:17.042545Z"
    },
    "papermill": {
     "duration": 0.065886,
     "end_time": "2021-04-09T10:06:17.043309",
     "exception": false,
     "start_time": "2021-04-09T10:06:16.977423",
     "status": "completed"
    },
    "tags": []
   },
   "outputs": [],
   "source": [
    "X_train, X_test, y_train, y_test = train_test_split(processed_df['description'],processed_df['product_category_tree'],test_size=0.2)"
   ]
  },
  {
   "cell_type": "code",
   "execution_count": 17,
   "id": "pleased-spring",
   "metadata": {
    "execution": {
     "iopub.execute_input": "2021-04-09T10:06:17.170338Z",
     "iopub.status.busy": "2021-04-09T10:06:17.159837Z",
     "iopub.status.idle": "2021-04-09T10:06:18.436185Z",
     "shell.execute_reply": "2021-04-09T10:06:18.434891Z"
    },
    "papermill": {
     "duration": 1.344229,
     "end_time": "2021-04-09T10:06:18.436339",
     "exception": false,
     "start_time": "2021-04-09T10:06:17.092110",
     "status": "completed"
    },
    "tags": []
   },
   "outputs": [],
   "source": [
    "'''\n",
    "This code block is for converting the training data to vectorized form\n",
    "\n",
    "'''\n",
    "vect = CountVectorizer(stop_words = 'english')\n",
    "# Removing stop words\n",
    "X_train_matrix = vect.fit_transform(X_train) \n",
    "# Converting the train data\n",
    "X_test_matrix = vect.transform(X_test)"
   ]
  },
  {
   "cell_type": "code",
   "execution_count": 18,
   "id": "transsexual-perry",
   "metadata": {
    "execution": {
     "iopub.execute_input": "2021-04-09T10:06:18.540344Z",
     "iopub.status.busy": "2021-04-09T10:06:18.539687Z",
     "iopub.status.idle": "2021-04-09T10:06:18.621563Z",
     "shell.execute_reply": "2021-04-09T10:06:18.617679Z"
    },
    "papermill": {
     "duration": 0.135825,
     "end_time": "2021-04-09T10:06:18.621999",
     "exception": false,
     "start_time": "2021-04-09T10:06:18.486174",
     "status": "completed"
    },
    "tags": []
   },
   "outputs": [],
   "source": [
    "from sklearn.feature_selection import SelectKBest, chi2, f_classif\n",
    "fselect = SelectKBest(chi2 , k=10000)\n",
    "train_features = fselect.fit_transform(X_train_matrix, y_train)\n",
    "test_features = fselect.transform(X_test_matrix)"
   ]
  },
  {
   "cell_type": "code",
   "execution_count": 19,
   "id": "classified-avenue",
   "metadata": {
    "execution": {
     "iopub.execute_input": "2021-04-09T10:06:18.875609Z",
     "iopub.status.busy": "2021-04-09T10:06:18.874415Z",
     "iopub.status.idle": "2021-04-09T10:06:18.883941Z",
     "shell.execute_reply": "2021-04-09T10:06:18.884798Z"
    },
    "papermill": {
     "duration": 0.103991,
     "end_time": "2021-04-09T10:06:18.885040",
     "exception": false,
     "start_time": "2021-04-09T10:06:18.781049",
     "status": "completed"
    },
    "tags": []
   },
   "outputs": [
    {
     "data": {
      "text/plain": [
       "<3736x10000 sparse matrix of type '<class 'numpy.int64'>'\n",
       "\twith 96713 stored elements in Compressed Sparse Row format>"
      ]
     },
     "execution_count": 19,
     "metadata": {},
     "output_type": "execute_result"
    }
   ],
   "source": [
    "test_features"
   ]
  },
  {
   "cell_type": "code",
   "execution_count": null,
   "id": "mounted-brother",
   "metadata": {
    "papermill": {
     "duration": 0.085822,
     "end_time": "2021-04-09T10:06:19.056082",
     "exception": false,
     "start_time": "2021-04-09T10:06:18.970260",
     "status": "completed"
    },
    "tags": []
   },
   "outputs": [],
   "source": []
  },
  {
   "cell_type": "code",
   "execution_count": 20,
   "id": "virtual-postage",
   "metadata": {
    "execution": {
     "iopub.execute_input": "2021-04-09T10:06:19.243963Z",
     "iopub.status.busy": "2021-04-09T10:06:19.242903Z",
     "iopub.status.idle": "2021-04-09T10:06:19.344091Z",
     "shell.execute_reply": "2021-04-09T10:06:19.345674Z"
    },
    "papermill": {
     "duration": 0.203861,
     "end_time": "2021-04-09T10:06:19.346007",
     "exception": false,
     "start_time": "2021-04-09T10:06:19.142146",
     "status": "completed"
    },
    "tags": []
   },
   "outputs": [
    {
     "name": "stdout",
     "output_type": "stream",
     "text": [
      "0.9660687993575158\n",
      "0.9542291220556746\n",
      "              precision    recall  f1-score   support\n",
      "\n",
      "           0       0.94      0.98      0.96       199\n",
      "           1       0.82      0.68      0.74        91\n",
      "           2       0.85      0.92      0.88       139\n",
      "           3       0.99      0.98      0.99      1296\n",
      "           4       0.89      0.78      0.83       109\n",
      "           5       0.99      0.98      0.99       251\n",
      "           6       0.93      0.97      0.95       186\n",
      "           7       0.88      1.00      0.94       135\n",
      "           8       0.95      1.00      0.97       711\n",
      "           9       0.97      0.88      0.92       129\n",
      "          10       0.98      0.89      0.93       195\n",
      "          11       0.97      0.61      0.75        59\n",
      "          12       0.94      0.93      0.93        81\n",
      "          13       0.75      0.95      0.84        55\n",
      "          14       1.00      1.00      1.00       100\n",
      "\n",
      "    accuracy                           0.95      3736\n",
      "   macro avg       0.92      0.90      0.91      3736\n",
      "weighted avg       0.96      0.95      0.95      3736\n",
      "\n"
     ]
    }
   ],
   "source": [
    "'''\n",
    "This code block is for training vectorized data and predicting & scoring test data\n",
    "\n",
    "'''\n",
    "from sklearn.naive_bayes import MultinomialNB\n",
    "clf=MultinomialNB()\n",
    "# Defining model\n",
    "clf.fit(train_features, y_train)\n",
    "# Fitting to multinomial NB model \n",
    "print(clf.score(train_features, y_train))\n",
    "# Scoring the trained model (Expected to be above 95 percent)\n",
    "# Converting the test data\n",
    "print (clf.score(test_features, y_test))\n",
    "# Scoring for the test data\n",
    "predicted_result=clf.predict(test_features)\n",
    "print(classification_report(y_test,predicted_result))\n",
    "# Printing score "
   ]
  },
  {
   "cell_type": "code",
   "execution_count": 21,
   "id": "theoretical-montgomery",
   "metadata": {
    "execution": {
     "iopub.execute_input": "2021-04-09T10:06:19.518251Z",
     "iopub.status.busy": "2021-04-09T10:06:19.517161Z",
     "iopub.status.idle": "2021-04-09T10:06:26.414947Z",
     "shell.execute_reply": "2021-04-09T10:06:26.414307Z"
    },
    "papermill": {
     "duration": 6.983564,
     "end_time": "2021-04-09T10:06:26.415125",
     "exception": false,
     "start_time": "2021-04-09T10:06:19.431561",
     "status": "completed"
    },
    "tags": []
   },
   "outputs": [
    {
     "name": "stdout",
     "output_type": "stream",
     "text": [
      "0.9421841541755889\n",
      "              precision    recall  f1-score   support\n",
      "\n",
      "           0       0.95      0.96      0.96       199\n",
      "           1       0.90      0.70      0.79        91\n",
      "           2       0.97      0.86      0.91       139\n",
      "           3       0.95      1.00      0.97      1296\n",
      "           4       0.79      0.90      0.84       109\n",
      "           5       0.98      0.95      0.97       251\n",
      "           6       0.99      0.85      0.92       186\n",
      "           7       0.87      0.96      0.91       135\n",
      "           8       0.96      0.98      0.97       711\n",
      "           9       0.93      0.88      0.90       129\n",
      "          10       0.92      0.93      0.92       195\n",
      "          11       0.82      0.69      0.75        59\n",
      "          12       1.00      0.81      0.90        81\n",
      "          13       0.81      0.64      0.71        55\n",
      "          14       1.00      0.99      0.99       100\n",
      "\n",
      "    accuracy                           0.94      3736\n",
      "   macro avg       0.92      0.87      0.89      3736\n",
      "weighted avg       0.94      0.94      0.94      3736\n",
      "\n"
     ]
    }
   ],
   "source": [
    "knn = KNeighborsClassifier()\n",
    "\n",
    "knn.fit(train_features, y_train)\n",
    "\n",
    "print (knn.score(test_features, y_test))\n",
    "# Scoring for the test data\n",
    "predicted_result=knn.predict(test_features)\n",
    "print(classification_report(y_test,predicted_result))"
   ]
  },
  {
   "cell_type": "code",
   "execution_count": 22,
   "id": "incident-removal",
   "metadata": {
    "execution": {
     "iopub.execute_input": "2021-04-09T10:06:26.527643Z",
     "iopub.status.busy": "2021-04-09T10:06:26.526591Z",
     "iopub.status.idle": "2021-04-09T10:06:27.259670Z",
     "shell.execute_reply": "2021-04-09T10:06:27.258458Z"
    },
    "papermill": {
     "duration": 0.79231,
     "end_time": "2021-04-09T10:06:27.259924",
     "exception": false,
     "start_time": "2021-04-09T10:06:26.467614",
     "status": "completed"
    },
    "tags": []
   },
   "outputs": [
    {
     "name": "stdout",
     "output_type": "stream",
     "text": [
      "0.9992638201044037\n",
      "0.9644004282655246\n",
      "              precision    recall  f1-score   support\n",
      "\n",
      "           0       0.97      0.97      0.97       199\n",
      "           1       0.92      0.77      0.84        91\n",
      "           2       0.96      0.94      0.95       139\n",
      "           3       0.99      0.98      0.99      1296\n",
      "           4       0.92      0.94      0.93       109\n",
      "           5       0.98      0.97      0.98       251\n",
      "           6       0.94      0.91      0.92       186\n",
      "           7       0.89      0.99      0.94       135\n",
      "           8       0.99      1.00      0.99       711\n",
      "           9       0.90      0.97      0.93       129\n",
      "          10       0.94      0.95      0.95       195\n",
      "          11       0.75      0.71      0.73        59\n",
      "          12       0.97      0.96      0.97        81\n",
      "          13       0.86      0.80      0.83        55\n",
      "          14       0.95      0.99      0.97       100\n",
      "\n",
      "    accuracy                           0.96      3736\n",
      "   macro avg       0.93      0.92      0.93      3736\n",
      "weighted avg       0.96      0.96      0.96      3736\n",
      "\n"
     ]
    }
   ],
   "source": [
    "clf = DecisionTreeClassifier(random_state=42)\n",
    "\n",
    "clf.fit(train_features, y_train)\n",
    "# Fitting to multinomial NB model \n",
    "print(clf.score(train_features, y_train))\n",
    "# Scoring the trained model (Expected to be above 95 percent)\n",
    "# X_test_matrix = vect.transform(X_test) \n",
    "# Converting the test data\n",
    "print (clf.score(test_features, y_test))\n",
    "# Scoring for the test data\n",
    "predicted_result=clf.predict(test_features)\n",
    "print(classification_report(y_test,predicted_result))"
   ]
  },
  {
   "cell_type": "code",
   "execution_count": 23,
   "id": "accessory-humidity",
   "metadata": {
    "execution": {
     "iopub.execute_input": "2021-04-09T10:06:27.372066Z",
     "iopub.status.busy": "2021-04-09T10:06:27.371248Z",
     "iopub.status.idle": "2021-04-09T10:06:34.916693Z",
     "shell.execute_reply": "2021-04-09T10:06:34.916093Z"
    },
    "papermill": {
     "duration": 7.603619,
     "end_time": "2021-04-09T10:06:34.916849",
     "exception": false,
     "start_time": "2021-04-09T10:06:27.313230",
     "status": "completed"
    },
    "tags": []
   },
   "outputs": [
    {
     "name": "stdout",
     "output_type": "stream",
     "text": [
      "0.9973229821978317\n",
      "0.9753747323340471\n",
      "              precision    recall  f1-score   support\n",
      "\n",
      "           0       0.98      0.99      0.99       199\n",
      "           1       1.00      0.77      0.87        91\n",
      "           2       0.99      0.96      0.97       139\n",
      "           3       0.98      1.00      0.99      1296\n",
      "           4       0.97      0.89      0.93       109\n",
      "           5       1.00      0.98      0.99       251\n",
      "           6       0.98      0.98      0.98       186\n",
      "           7       0.94      0.98      0.96       135\n",
      "           8       0.98      1.00      0.99       711\n",
      "           9       0.89      0.98      0.93       129\n",
      "          10       0.97      0.98      0.97       195\n",
      "          11       0.95      0.71      0.82        59\n",
      "          12       1.00      0.94      0.97        81\n",
      "          13       0.86      0.91      0.88        55\n",
      "          14       1.00      0.99      0.99       100\n",
      "\n",
      "    accuracy                           0.98      3736\n",
      "   macro avg       0.97      0.94      0.95      3736\n",
      "weighted avg       0.98      0.98      0.97      3736\n",
      "\n"
     ]
    }
   ],
   "source": [
    "from sklearn.ensemble import RandomForestClassifier\n",
    "clf = RandomForestClassifier(random_state=42, max_depth = 101,min_samples_split= 5, min_samples_leaf = 1)\n",
    "clf.fit(train_features, y_train)\n",
    "# Fitting to multinomial NB model \n",
    "print(clf.score(train_features, y_train))\n",
    "\n",
    "# Converting the test data\n",
    "print (clf.score(test_features, y_test))\n",
    "# Scoring for the test data\n",
    "predicted_result=clf.predict(test_features)\n",
    "print(classification_report(y_test,predicted_result))"
   ]
  },
  {
   "cell_type": "code",
   "execution_count": 24,
   "id": "virtual-plain",
   "metadata": {
    "execution": {
     "iopub.execute_input": "2021-04-09T10:06:35.030484Z",
     "iopub.status.busy": "2021-04-09T10:06:35.029645Z",
     "iopub.status.idle": "2021-04-09T10:09:05.804049Z",
     "shell.execute_reply": "2021-04-09T10:09:05.803023Z"
    },
    "papermill": {
     "duration": 150.832962,
     "end_time": "2021-04-09T10:09:05.804237",
     "exception": false,
     "start_time": "2021-04-09T10:06:34.971275",
     "status": "completed"
    },
    "tags": []
   },
   "outputs": [
    {
     "name": "stdout",
     "output_type": "stream",
     "text": [
      "[10:06:43] WARNING: ../src/learner.cc:1061: Starting in XGBoost 1.3.0, the default evaluation metric used with the objective 'multi:softprob' was changed from 'merror' to 'mlogloss'. Explicitly set eval_metric if you'd like to restore the old behavior.\n",
      "0.9955829206264222\n",
      "0.9748394004282656\n",
      "              precision    recall  f1-score   support\n",
      "\n",
      "           0       0.97      0.98      0.98       199\n",
      "           1       0.91      0.81      0.86        91\n",
      "           2       0.96      0.94      0.95       139\n",
      "           3       1.00      0.99      0.99      1296\n",
      "           4       0.90      0.96      0.93       109\n",
      "           5       1.00      0.98      0.99       251\n",
      "           6       0.97      0.96      0.96       186\n",
      "           7       0.91      1.00      0.95       135\n",
      "           8       0.99      1.00      0.99       711\n",
      "           9       0.93      0.98      0.95       129\n",
      "          10       0.97      0.96      0.97       195\n",
      "          11       0.87      0.78      0.82        59\n",
      "          12       0.97      0.94      0.96        81\n",
      "          13       0.83      0.89      0.86        55\n",
      "          14       1.00      1.00      1.00       100\n",
      "\n",
      "    accuracy                           0.97      3736\n",
      "   macro avg       0.95      0.95      0.94      3736\n",
      "weighted avg       0.98      0.97      0.97      3736\n",
      "\n"
     ]
    }
   ],
   "source": [
    "import xgboost as xgb\n",
    "\n",
    "clf = xgb.XGBClassifier(max_depth=25,subsample=1, learning_rate=0.07, reg_lambda=0.1, reg_alpha=0.1,gamma=1)\n",
    "clf.fit(train_features, y_train)\n",
    "# Fitting to XGBC model \n",
    "print(clf.score(train_features, y_train))\n",
    "\n",
    "print (clf.score(test_features, y_test))\n",
    "# Scoring for the test data\n",
    "predicted_result=clf.predict(test_features)\n",
    "print(classification_report(y_test,predicted_result))"
   ]
  },
  {
   "cell_type": "code",
   "execution_count": 25,
   "id": "mounted-utilization",
   "metadata": {
    "execution": {
     "iopub.execute_input": "2021-04-09T10:09:05.921916Z",
     "iopub.status.busy": "2021-04-09T10:09:05.920922Z",
     "iopub.status.idle": "2021-04-09T10:09:18.923926Z",
     "shell.execute_reply": "2021-04-09T10:09:18.923153Z"
    },
    "papermill": {
     "duration": 13.065103,
     "end_time": "2021-04-09T10:09:18.924102",
     "exception": false,
     "start_time": "2021-04-09T10:09:05.858999",
     "status": "completed"
    },
    "tags": []
   },
   "outputs": [
    {
     "data": {
      "text/html": [
       "<style type='text/css'>\n",
       ".datatable table.frame { margin-bottom: 0; }\n",
       ".datatable table.frame thead { border-bottom: none; }\n",
       ".datatable table.frame tr.coltypes td {  color: #FFFFFF;  line-height: 6px;  padding: 0 0.5em;}\n",
       ".datatable .bool    { background: #DDDD99; }\n",
       ".datatable .object  { background: #565656; }\n",
       ".datatable .int     { background: #5D9E5D; }\n",
       ".datatable .float   { background: #4040CC; }\n",
       ".datatable .str     { background: #CC4040; }\n",
       ".datatable .row_index {  background: var(--jp-border-color3);  border-right: 1px solid var(--jp-border-color0);  color: var(--jp-ui-font-color3);  font-size: 9px;}\n",
       ".datatable .frame tr.coltypes .row_index {  background: var(--jp-border-color0);}\n",
       ".datatable th:nth-child(2) { padding-left: 12px; }\n",
       ".datatable .hellipsis {  color: var(--jp-cell-editor-border-color);}\n",
       ".datatable .vellipsis {  background: var(--jp-layout-color0);  color: var(--jp-cell-editor-border-color);}\n",
       ".datatable .na {  color: var(--jp-cell-editor-border-color);  font-size: 80%;}\n",
       ".datatable .footer { font-size: 9px; }\n",
       ".datatable .frame_dimensions {  background: var(--jp-border-color3);  border-top: 1px solid var(--jp-border-color0);  color: var(--jp-ui-font-color3);  display: inline-block;  opacity: 0.6;  padding: 1px 10px 1px 5px;}\n",
       "</style>\n"
      ],
      "text/plain": [
       "<IPython.core.display.HTML object>"
      ]
     },
     "metadata": {},
     "output_type": "display_data"
    },
    {
     "name": "stdout",
     "output_type": "stream",
     "text": [
      "0.9979253112033195\n",
      "0.9796573875802997\n",
      "              precision    recall  f1-score   support\n",
      "\n",
      "           0       0.98      0.98      0.98       199\n",
      "           1       0.91      0.89      0.90        91\n",
      "           2       0.96      0.97      0.97       139\n",
      "           3       1.00      0.99      1.00      1296\n",
      "           4       0.93      0.97      0.95       109\n",
      "           5       1.00      0.99      0.99       251\n",
      "           6       0.98      0.97      0.97       186\n",
      "           7       0.94      1.00      0.97       135\n",
      "           8       1.00      1.00      1.00       711\n",
      "           9       0.93      0.98      0.95       129\n",
      "          10       0.98      0.97      0.98       195\n",
      "          11       0.83      0.75      0.79        59\n",
      "          12       1.00      0.94      0.97        81\n",
      "          13       0.78      0.84      0.81        55\n",
      "          14       1.00      1.00      1.00       100\n",
      "\n",
      "    accuracy                           0.98      3736\n",
      "   macro avg       0.95      0.95      0.95      3736\n",
      "weighted avg       0.98      0.98      0.98      3736\n",
      "\n"
     ]
    }
   ],
   "source": [
    "import lightgbm as lgb\n",
    "clf = lgb.LGBMClassifier(random_state=42,num_leaves=31,learning_rate=0.1)\n",
    "clf.fit(train_features.astype(float), y_train)\n",
    "# Fitting to LGBM model \n",
    "print(clf.score(train_features.astype(float), y_train))\n",
    "\n",
    "# Converting the test data\n",
    "print (clf.score(test_features.astype(float), y_test))\n",
    "# Scoring for the test data\n",
    "predicted_result=clf.predict(test_features.astype(float))\n",
    "print(classification_report(y_test,predicted_result))"
   ]
  },
  {
   "cell_type": "code",
   "execution_count": 26,
   "id": "nonprofit-analysis",
   "metadata": {
    "execution": {
     "iopub.execute_input": "2021-04-09T10:09:19.080317Z",
     "iopub.status.busy": "2021-04-09T10:09:19.070076Z",
     "iopub.status.idle": "2021-04-09T10:09:20.125199Z",
     "shell.execute_reply": "2021-04-09T10:09:20.124590Z"
    },
    "papermill": {
     "duration": 1.13982,
     "end_time": "2021-04-09T10:09:20.125412",
     "exception": false,
     "start_time": "2021-04-09T10:09:18.985592",
     "status": "completed"
    },
    "tags": []
   },
   "outputs": [],
   "source": [
    "'''\n",
    "This code block is for converting the training data to Tf-Idf form\n",
    "\n",
    "'''\n",
    "vectorizer = TfidfVectorizer(stop_words = 'english')\n",
    "# Removing stop words\n",
    "X_train_tfidf = vectorizer.fit_transform(X_train)\n",
    "# Converting the train data"
   ]
  },
  {
   "cell_type": "code",
   "execution_count": 27,
   "id": "reflected-survey",
   "metadata": {
    "execution": {
     "iopub.execute_input": "2021-04-09T10:09:20.245353Z",
     "iopub.status.busy": "2021-04-09T10:09:20.244135Z",
     "iopub.status.idle": "2021-04-09T10:09:20.250110Z",
     "shell.execute_reply": "2021-04-09T10:09:20.249532Z"
    },
    "papermill": {
     "duration": 0.067766,
     "end_time": "2021-04-09T10:09:20.250252",
     "exception": false,
     "start_time": "2021-04-09T10:09:20.182486",
     "status": "completed"
    },
    "tags": []
   },
   "outputs": [
    {
     "data": {
      "text/plain": [
       "(14942, 20357)"
      ]
     },
     "execution_count": 27,
     "metadata": {},
     "output_type": "execute_result"
    }
   ],
   "source": [
    "X_train_tfidf.shape"
   ]
  },
  {
   "cell_type": "code",
   "execution_count": 28,
   "id": "employed-municipality",
   "metadata": {
    "execution": {
     "iopub.execute_input": "2021-04-09T10:09:20.397881Z",
     "iopub.status.busy": "2021-04-09T10:09:20.387509Z",
     "iopub.status.idle": "2021-04-09T10:09:20.627154Z",
     "shell.execute_reply": "2021-04-09T10:09:20.626513Z"
    },
    "papermill": {
     "duration": 0.320491,
     "end_time": "2021-04-09T10:09:20.627349",
     "exception": false,
     "start_time": "2021-04-09T10:09:20.306858",
     "status": "completed"
    },
    "tags": []
   },
   "outputs": [],
   "source": [
    "X_test_tfidf = vectorizer.transform(X_test) "
   ]
  },
  {
   "cell_type": "code",
   "execution_count": 29,
   "id": "coral-institute",
   "metadata": {
    "execution": {
     "iopub.execute_input": "2021-04-09T10:09:20.749164Z",
     "iopub.status.busy": "2021-04-09T10:09:20.748073Z",
     "iopub.status.idle": "2021-04-09T10:09:20.796558Z",
     "shell.execute_reply": "2021-04-09T10:09:20.798110Z"
    },
    "papermill": {
     "duration": 0.11354,
     "end_time": "2021-04-09T10:09:20.798437",
     "exception": false,
     "start_time": "2021-04-09T10:09:20.684897",
     "status": "completed"
    },
    "tags": []
   },
   "outputs": [],
   "source": [
    "X_train_tfidf = fselect.fit_transform(X_train_tfidf, y_train)\n",
    "X_test_tfidf = fselect.transform(X_test_tfidf)"
   ]
  },
  {
   "cell_type": "code",
   "execution_count": 30,
   "id": "extended-spread",
   "metadata": {
    "execution": {
     "iopub.execute_input": "2021-04-09T10:09:20.964551Z",
     "iopub.status.busy": "2021-04-09T10:09:20.963486Z",
     "iopub.status.idle": "2021-04-09T10:09:20.998602Z",
     "shell.execute_reply": "2021-04-09T10:09:20.998028Z"
    },
    "papermill": {
     "duration": 0.099502,
     "end_time": "2021-04-09T10:09:20.998770",
     "exception": false,
     "start_time": "2021-04-09T10:09:20.899268",
     "status": "completed"
    },
    "tags": []
   },
   "outputs": [
    {
     "name": "stdout",
     "output_type": "stream",
     "text": [
      "0.9401686521215367\n",
      "0.9242505353319058\n"
     ]
    }
   ],
   "source": [
    "'''\n",
    "This code block is for training, predicting & scoring test data\n",
    "\n",
    "'''\n",
    "clf2=MultinomialNB()\n",
    "# Defining model\n",
    "clf2.fit(X_train_tfidf, y_train)\n",
    "# Fitting to multinomial NB model \n",
    "print(clf2.score(X_train_tfidf, y_train))\n",
    "# Scoring the trained model (Expected to be above 95 percent)\n",
    "# X_test_tfidf = vectorizer.transform(X_test) \n",
    "# Converting the test data\n",
    "print (clf2.score(X_test_tfidf, y_test))\n",
    "# Printing score "
   ]
  },
  {
   "cell_type": "code",
   "execution_count": 31,
   "id": "tutorial-michigan",
   "metadata": {
    "execution": {
     "iopub.execute_input": "2021-04-09T10:09:21.121367Z",
     "iopub.status.busy": "2021-04-09T10:09:21.120403Z",
     "iopub.status.idle": "2021-04-09T10:09:30.926998Z",
     "shell.execute_reply": "2021-04-09T10:09:30.926353Z"
    },
    "papermill": {
     "duration": 9.870422,
     "end_time": "2021-04-09T10:09:30.927152",
     "exception": false,
     "start_time": "2021-04-09T10:09:21.056730",
     "status": "completed"
    },
    "tags": []
   },
   "outputs": [
    {
     "name": "stdout",
     "output_type": "stream",
     "text": [
      "0.9992638201044037\n",
      "0.9676124197002142\n",
      "              precision    recall  f1-score   support\n",
      "\n",
      "           0       0.97      0.98      0.97       199\n",
      "           1       0.98      0.71      0.83        91\n",
      "           2       0.98      0.92      0.95       139\n",
      "           3       0.98      1.00      0.99      1296\n",
      "           4       0.91      0.93      0.92       109\n",
      "           5       1.00      0.96      0.98       251\n",
      "           6       0.93      0.97      0.95       186\n",
      "           7       0.91      0.96      0.93       135\n",
      "           8       0.99      1.00      0.99       711\n",
      "           9       0.89      0.95      0.92       129\n",
      "          10       0.96      0.97      0.96       195\n",
      "          11       0.93      0.64      0.76        59\n",
      "          12       1.00      0.94      0.97        81\n",
      "          13       0.83      0.91      0.87        55\n",
      "          14       1.00      0.99      0.99       100\n",
      "\n",
      "    accuracy                           0.97      3736\n",
      "   macro avg       0.95      0.92      0.93      3736\n",
      "weighted avg       0.97      0.97      0.97      3736\n",
      "\n"
     ]
    }
   ],
   "source": [
    "clf = RandomForestClassifier()\n",
    "clf.fit(X_train_tfidf, y_train)\n",
    "# Fitting to RFC model \n",
    "print(clf.score(X_train_tfidf, y_train))\n",
    "\n",
    "# Converting the test data\n",
    "print (clf.score(X_test_tfidf, y_test))\n",
    "# Scoring for the test data\n",
    "predicted_result=clf.predict(X_test_tfidf)\n",
    "print(classification_report(y_test,predicted_result))"
   ]
  },
  {
   "cell_type": "code",
   "execution_count": 32,
   "id": "timely-stadium",
   "metadata": {
    "execution": {
     "iopub.execute_input": "2021-04-09T10:09:31.051756Z",
     "iopub.status.busy": "2021-04-09T10:09:31.050751Z",
     "iopub.status.idle": "2021-04-09T10:10:02.690880Z",
     "shell.execute_reply": "2021-04-09T10:10:02.690297Z"
    },
    "papermill": {
     "duration": 31.70512,
     "end_time": "2021-04-09T10:10:02.691064",
     "exception": false,
     "start_time": "2021-04-09T10:09:30.985944",
     "status": "completed"
    },
    "tags": []
   },
   "outputs": [
    {
     "name": "stdout",
     "output_type": "stream",
     "text": [
      "0.9991968946593495\n",
      "0.9775160599571735\n",
      "              precision    recall  f1-score   support\n",
      "\n",
      "           0       0.98      0.98      0.98       199\n",
      "           1       0.89      0.80      0.84        91\n",
      "           2       0.99      0.96      0.97       139\n",
      "           3       1.00      1.00      1.00      1296\n",
      "           4       0.93      0.97      0.95       109\n",
      "           5       1.00      0.98      0.99       251\n",
      "           6       0.97      0.96      0.96       186\n",
      "           7       0.92      1.00      0.96       135\n",
      "           8       1.00      1.00      1.00       711\n",
      "           9       0.93      0.98      0.95       129\n",
      "          10       0.98      0.97      0.98       195\n",
      "          11       0.78      0.76      0.77        59\n",
      "          12       0.99      0.96      0.97        81\n",
      "          13       0.83      0.82      0.83        55\n",
      "          14       1.00      1.00      1.00       100\n",
      "\n",
      "    accuracy                           0.98      3736\n",
      "   macro avg       0.94      0.94      0.94      3736\n",
      "weighted avg       0.98      0.98      0.98      3736\n",
      "\n"
     ]
    }
   ],
   "source": [
    "clf = lgb.LGBMClassifier(random_state=42,num_leaves=31,learning_rate=0.1)\n",
    "clf.fit(X_train_tfidf, y_train)\n",
    "# Fitting to LGBMC model \n",
    "print(clf.score(X_train_tfidf, y_train))\n",
    "\n",
    "print (clf.score(X_test_tfidf, y_test))\n",
    "# Scoring for the test data\n",
    "predicted_result=clf.predict(X_test_tfidf)\n",
    "print(classification_report(y_test,predicted_result))"
   ]
  },
  {
   "cell_type": "code",
   "execution_count": 33,
   "id": "adjustable-demographic",
   "metadata": {
    "execution": {
     "iopub.execute_input": "2021-04-09T10:10:02.818244Z",
     "iopub.status.busy": "2021-04-09T10:10:02.817289Z",
     "iopub.status.idle": "2021-04-09T10:11:09.916592Z",
     "shell.execute_reply": "2021-04-09T10:11:09.918074Z"
    },
    "papermill": {
     "duration": 67.166678,
     "end_time": "2021-04-09T10:11:09.918515",
     "exception": false,
     "start_time": "2021-04-09T10:10:02.751837",
     "status": "completed"
    },
    "tags": []
   },
   "outputs": [
    {
     "name": "stdout",
     "output_type": "stream",
     "text": [
      "0.9989291928791326\n",
      "0.982066381156317\n",
      "              precision    recall  f1-score   support\n",
      "\n",
      "           0       0.98      0.99      0.99       199\n",
      "           1       0.95      0.84      0.89        91\n",
      "           2       0.97      0.96      0.97       139\n",
      "           3       0.99      1.00      0.99      1296\n",
      "           4       0.97      0.97      0.97       109\n",
      "           5       1.00      0.99      0.99       251\n",
      "           6       0.96      0.99      0.98       186\n",
      "           7       0.95      0.99      0.97       135\n",
      "           8       0.99      1.00      1.00       711\n",
      "           9       0.98      0.98      0.98       129\n",
      "          10       0.98      0.97      0.98       195\n",
      "          11       0.90      0.76      0.83        59\n",
      "          12       1.00      0.95      0.97        81\n",
      "          13       0.84      0.87      0.86        55\n",
      "          14       1.00      1.00      1.00       100\n",
      "\n",
      "    accuracy                           0.98      3736\n",
      "   macro avg       0.97      0.95      0.96      3736\n",
      "weighted avg       0.98      0.98      0.98      3736\n",
      "\n"
     ]
    }
   ],
   "source": [
    "from sklearn.svm import SVC\n",
    "clf = SVC(gamma='scale', kernel='rbf', C=3)\n",
    "clf.fit(X_train_tfidf, y_train)\n",
    "# Fitting to SVC model \n",
    "print(clf.score(X_train_tfidf, y_train))\n",
    "\n",
    "print (clf.score(X_test_tfidf, y_test))\n",
    "# Scoring for the test data\n",
    "predicted_result=clf.predict(X_test_tfidf)\n",
    "print(classification_report(y_test,predicted_result))"
   ]
  },
  {
   "cell_type": "code",
   "execution_count": 34,
   "id": "celtic-telling",
   "metadata": {
    "execution": {
     "iopub.execute_input": "2021-04-09T10:11:10.138936Z",
     "iopub.status.busy": "2021-04-09T10:11:10.135875Z",
     "iopub.status.idle": "2021-04-09T10:11:15.140561Z",
     "shell.execute_reply": "2021-04-09T10:11:15.139101Z"
    },
    "papermill": {
     "duration": 5.118368,
     "end_time": "2021-04-09T10:11:15.140741",
     "exception": false,
     "start_time": "2021-04-09T10:11:10.022373",
     "status": "completed"
    },
    "tags": []
   },
   "outputs": [],
   "source": [
    "# Build out our simple LSTM\n",
    "from keras.preprocessing.text import Tokenizer\n",
    "from keras.preprocessing.sequence import pad_sequences\n",
    "from keras.models import Sequential\n",
    "from keras.layers import Dense, Embedding, LSTM\n",
    "from keras.utils.np_utils import to_categorical\n",
    "from keras.callbacks import ModelCheckpoint\n",
    "from keras.models import load_model\n",
    "from keras.optimizers import Adam\n",
    "\n",
    "\n",
    "embed_dim = 128\n",
    "lstm_out = 196\n",
    "\n",
    "# Model saving callback\n",
    "ckpt_callback = ModelCheckpoint('keras_model', \n",
    "                                 monitor='val_loss', \n",
    "                                 verbose=1, \n",
    "                                 save_best_only=True, \n",
    "                                 mode='auto')"
   ]
  },
  {
   "cell_type": "code",
   "execution_count": 35,
   "id": "color-pearl",
   "metadata": {
    "execution": {
     "iopub.execute_input": "2021-04-09T10:11:15.298586Z",
     "iopub.status.busy": "2021-04-09T10:11:15.297016Z",
     "iopub.status.idle": "2021-04-09T10:11:15.301818Z",
     "shell.execute_reply": "2021-04-09T10:11:15.302354Z"
    },
    "papermill": {
     "duration": 0.098167,
     "end_time": "2021-04-09T10:11:15.302511",
     "exception": false,
     "start_time": "2021-04-09T10:11:15.204344",
     "status": "completed"
    },
    "tags": []
   },
   "outputs": [
    {
     "data": {
      "text/html": [
       "<div>\n",
       "<style scoped>\n",
       "    .dataframe tbody tr th:only-of-type {\n",
       "        vertical-align: middle;\n",
       "    }\n",
       "\n",
       "    .dataframe tbody tr th {\n",
       "        vertical-align: top;\n",
       "    }\n",
       "\n",
       "    .dataframe thead th {\n",
       "        text-align: right;\n",
       "    }\n",
       "</style>\n",
       "<table border=\"1\" class=\"dataframe\">\n",
       "  <thead>\n",
       "    <tr style=\"text-align: right;\">\n",
       "      <th></th>\n",
       "      <th>product_category_tree</th>\n",
       "      <th>description</th>\n",
       "      <th>temp_list</th>\n",
       "    </tr>\n",
       "  </thead>\n",
       "  <tbody>\n",
       "    <tr>\n",
       "      <th>0</th>\n",
       "      <td>3</td>\n",
       "      <td>key features of alisha solid womens cycling sh...</td>\n",
       "      <td>[key, features, of, alisha, solid, womens, cyc...</td>\n",
       "    </tr>\n",
       "    <tr>\n",
       "      <th>2</th>\n",
       "      <td>5</td>\n",
       "      <td>key features of aw bellies sandals wedges heel...</td>\n",
       "      <td>[key, features, of, aw, bellies, sandals, wedg...</td>\n",
       "    </tr>\n",
       "    <tr>\n",
       "      <th>3</th>\n",
       "      <td>3</td>\n",
       "      <td>key features of alisha solid womens cycling sh...</td>\n",
       "      <td>[key, features, of, alisha, solid, womens, cyc...</td>\n",
       "    </tr>\n",
       "    <tr>\n",
       "      <th>6</th>\n",
       "      <td>3</td>\n",
       "      <td>key features of alisha solid womens cycling sh...</td>\n",
       "      <td>[key, features, of, alisha, solid, womens, cyc...</td>\n",
       "    </tr>\n",
       "    <tr>\n",
       "      <th>8</th>\n",
       "      <td>5</td>\n",
       "      <td>key features of dilli bazaaar bellies corporat...</td>\n",
       "      <td>[key, features, of, dilli, bazaaar, bellies, c...</td>\n",
       "    </tr>\n",
       "    <tr>\n",
       "      <th>...</th>\n",
       "      <td>...</td>\n",
       "      <td>...</td>\n",
       "      <td>...</td>\n",
       "    </tr>\n",
       "    <tr>\n",
       "      <th>19995</th>\n",
       "      <td>1</td>\n",
       "      <td>buy walldesign small vinyl sticker for online ...</td>\n",
       "      <td>[buy, walldesign, small, vinyl, sticker, for, ...</td>\n",
       "    </tr>\n",
       "    <tr>\n",
       "      <th>19996</th>\n",
       "      <td>1</td>\n",
       "      <td>buy wallmantra large vinyl stickers sticker fo...</td>\n",
       "      <td>[buy, wallmantra, large, vinyl, stickers, stic...</td>\n",
       "    </tr>\n",
       "    <tr>\n",
       "      <th>19997</th>\n",
       "      <td>1</td>\n",
       "      <td>buy elite collection medium acrylic sticker fo...</td>\n",
       "      <td>[buy, elite, collection, medium, acrylic, stic...</td>\n",
       "    </tr>\n",
       "    <tr>\n",
       "      <th>19998</th>\n",
       "      <td>1</td>\n",
       "      <td>buy elite collection medium acrylic sticker fo...</td>\n",
       "      <td>[buy, elite, collection, medium, acrylic, stic...</td>\n",
       "    </tr>\n",
       "    <tr>\n",
       "      <th>19999</th>\n",
       "      <td>1</td>\n",
       "      <td>buy elite collection medium acrylic sticker fo...</td>\n",
       "      <td>[buy, elite, collection, medium, acrylic, stic...</td>\n",
       "    </tr>\n",
       "  </tbody>\n",
       "</table>\n",
       "<p>18678 rows × 3 columns</p>\n",
       "</div>"
      ],
      "text/plain": [
       "       product_category_tree  \\\n",
       "0                          3   \n",
       "2                          5   \n",
       "3                          3   \n",
       "6                          3   \n",
       "8                          5   \n",
       "...                      ...   \n",
       "19995                      1   \n",
       "19996                      1   \n",
       "19997                      1   \n",
       "19998                      1   \n",
       "19999                      1   \n",
       "\n",
       "                                             description  \\\n",
       "0      key features of alisha solid womens cycling sh...   \n",
       "2      key features of aw bellies sandals wedges heel...   \n",
       "3      key features of alisha solid womens cycling sh...   \n",
       "6      key features of alisha solid womens cycling sh...   \n",
       "8      key features of dilli bazaaar bellies corporat...   \n",
       "...                                                  ...   \n",
       "19995  buy walldesign small vinyl sticker for online ...   \n",
       "19996  buy wallmantra large vinyl stickers sticker fo...   \n",
       "19997  buy elite collection medium acrylic sticker fo...   \n",
       "19998  buy elite collection medium acrylic sticker fo...   \n",
       "19999  buy elite collection medium acrylic sticker fo...   \n",
       "\n",
       "                                               temp_list  \n",
       "0      [key, features, of, alisha, solid, womens, cyc...  \n",
       "2      [key, features, of, aw, bellies, sandals, wedg...  \n",
       "3      [key, features, of, alisha, solid, womens, cyc...  \n",
       "6      [key, features, of, alisha, solid, womens, cyc...  \n",
       "8      [key, features, of, dilli, bazaaar, bellies, c...  \n",
       "...                                                  ...  \n",
       "19995  [buy, walldesign, small, vinyl, sticker, for, ...  \n",
       "19996  [buy, wallmantra, large, vinyl, stickers, stic...  \n",
       "19997  [buy, elite, collection, medium, acrylic, stic...  \n",
       "19998  [buy, elite, collection, medium, acrylic, stic...  \n",
       "19999  [buy, elite, collection, medium, acrylic, stic...  \n",
       "\n",
       "[18678 rows x 3 columns]"
      ]
     },
     "execution_count": 35,
     "metadata": {},
     "output_type": "execute_result"
    }
   ],
   "source": [
    "processed_df"
   ]
  },
  {
   "cell_type": "code",
   "execution_count": 36,
   "id": "divine-council",
   "metadata": {
    "execution": {
     "iopub.execute_input": "2021-04-09T10:11:15.447148Z",
     "iopub.status.busy": "2021-04-09T10:11:15.436660Z",
     "iopub.status.idle": "2021-04-09T10:11:17.841535Z",
     "shell.execute_reply": "2021-04-09T10:11:17.840627Z"
    },
    "papermill": {
     "duration": 2.476272,
     "end_time": "2021-04-09T10:11:17.841743",
     "exception": false,
     "start_time": "2021-04-09T10:11:15.365471",
     "status": "completed"
    },
    "tags": []
   },
   "outputs": [],
   "source": [
    "# Use the Keras tokenizer\n",
    "num_words = 500\n",
    "tokenizer = Tokenizer(num_words=num_words)\n",
    "tokenizer.fit_on_texts(processed_df['description'].values)\n",
    "# Pad the data \n",
    "X = tokenizer.texts_to_sequences(processed_df['description'].values)\n",
    "X = pad_sequences(X, maxlen=500)"
   ]
  },
  {
   "cell_type": "code",
   "execution_count": 37,
   "id": "metropolitan-february",
   "metadata": {
    "execution": {
     "iopub.execute_input": "2021-04-09T10:11:17.976716Z",
     "iopub.status.busy": "2021-04-09T10:11:17.974743Z",
     "iopub.status.idle": "2021-04-09T10:11:17.980261Z",
     "shell.execute_reply": "2021-04-09T10:11:17.979618Z"
    },
    "papermill": {
     "duration": 0.075845,
     "end_time": "2021-04-09T10:11:17.980409",
     "exception": false,
     "start_time": "2021-04-09T10:11:17.904564",
     "status": "completed"
    },
    "tags": []
   },
   "outputs": [
    {
     "data": {
      "text/plain": [
       "(18678, 500)"
      ]
     },
     "execution_count": 37,
     "metadata": {},
     "output_type": "execute_result"
    }
   ],
   "source": [
    "X.shape"
   ]
  },
  {
   "cell_type": "code",
   "execution_count": 38,
   "id": "substantial-newfoundland",
   "metadata": {
    "execution": {
     "iopub.execute_input": "2021-04-09T10:11:18.114066Z",
     "iopub.status.busy": "2021-04-09T10:11:18.113304Z",
     "iopub.status.idle": "2021-04-09T10:11:23.251945Z",
     "shell.execute_reply": "2021-04-09T10:11:23.251012Z"
    },
    "papermill": {
     "duration": 5.20866,
     "end_time": "2021-04-09T10:11:23.252094",
     "exception": false,
     "start_time": "2021-04-09T10:11:18.043434",
     "status": "completed"
    },
    "tags": []
   },
   "outputs": [
    {
     "name": "stdout",
     "output_type": "stream",
     "text": [
      "Model: \"sequential\"\n",
      "_________________________________________________________________\n",
      "Layer (type)                 Output Shape              Param #   \n",
      "=================================================================\n",
      "embedding (Embedding)        (None, 500, 128)          64000     \n",
      "_________________________________________________________________\n",
      "lstm (LSTM)                  (None, 196)               254800    \n",
      "_________________________________________________________________\n",
      "dense (Dense)                (None, 15)                2955      \n",
      "=================================================================\n",
      "Total params: 321,755\n",
      "Trainable params: 321,755\n",
      "Non-trainable params: 0\n",
      "_________________________________________________________________\n",
      "None\n"
     ]
    }
   ],
   "source": [
    "model = Sequential()\n",
    "model.add(Embedding(num_words, embed_dim, input_length = X.shape[1]))\n",
    "model.add(LSTM(lstm_out, recurrent_dropout=0.2, dropout=0.2))\n",
    "model.add(Dense(15,activation='softmax'))\n",
    "model.compile(loss = 'categorical_crossentropy', optimizer='adam', metrics = ['categorical_crossentropy'])\n",
    "print(model.summary())"
   ]
  },
  {
   "cell_type": "code",
   "execution_count": 39,
   "id": "sunrise-dietary",
   "metadata": {
    "execution": {
     "iopub.execute_input": "2021-04-09T10:11:23.386576Z",
     "iopub.status.busy": "2021-04-09T10:11:23.385522Z",
     "iopub.status.idle": "2021-04-09T10:11:23.919269Z",
     "shell.execute_reply": "2021-04-09T10:11:23.919898Z"
    },
    "papermill": {
     "duration": 0.603737,
     "end_time": "2021-04-09T10:11:23.920093",
     "exception": false,
     "start_time": "2021-04-09T10:11:23.316356",
     "status": "completed"
    },
    "tags": []
   },
   "outputs": [
    {
     "name": "stdout",
     "output_type": "stream",
     "text": [
      "(14942, 500) (14942, 15)\n",
      "(3736, 500) (3736, 15)\n"
     ]
    }
   ],
   "source": [
    "Y = pd.get_dummies(processed_df['product_category_tree']).values\n",
    "X_train, X_test, Y_train, Y_test = train_test_split(X, Y, test_size = 0.2, random_state = 42, stratify=Y)\n",
    "print(X_train.shape, Y_train.shape)\n",
    "print(X_test.shape, Y_test.shape)"
   ]
  },
  {
   "cell_type": "code",
   "execution_count": 40,
   "id": "faced-metropolitan",
   "metadata": {
    "execution": {
     "iopub.execute_input": "2021-04-09T10:11:24.052960Z",
     "iopub.status.busy": "2021-04-09T10:11:24.052172Z",
     "iopub.status.idle": "2021-04-09T12:53:16.450861Z",
     "shell.execute_reply": "2021-04-09T12:53:16.451446Z"
    },
    "papermill": {
     "duration": 9712.467409,
     "end_time": "2021-04-09T12:53:16.451621",
     "exception": false,
     "start_time": "2021-04-09T10:11:23.984212",
     "status": "completed"
    },
    "tags": []
   },
   "outputs": [
    {
     "name": "stdout",
     "output_type": "stream",
     "text": [
      "Epoch 1/8\n",
      "374/374 [==============================] - 1194s 3s/step - loss: 1.5472 - categorical_crossentropy: 1.5472 - val_loss: 0.6652 - val_categorical_crossentropy: 0.6652\n",
      "\n",
      "Epoch 00001: val_loss improved from inf to 0.66517, saving model to keras_model\n",
      "Epoch 2/8\n",
      "374/374 [==============================] - 1182s 3s/step - loss: 0.6059 - categorical_crossentropy: 0.6059 - val_loss: 0.4847 - val_categorical_crossentropy: 0.4847\n",
      "\n",
      "Epoch 00002: val_loss improved from 0.66517 to 0.48468, saving model to keras_model\n",
      "Epoch 3/8\n",
      "374/374 [==============================] - 1192s 3s/step - loss: 0.4199 - categorical_crossentropy: 0.4199 - val_loss: 0.3355 - val_categorical_crossentropy: 0.3355\n",
      "\n",
      "Epoch 00003: val_loss improved from 0.48468 to 0.33547, saving model to keras_model\n",
      "Epoch 4/8\n",
      "374/374 [==============================] - 1215s 3s/step - loss: 0.3685 - categorical_crossentropy: 0.3685 - val_loss: 0.3178 - val_categorical_crossentropy: 0.3178\n",
      "\n",
      "Epoch 00004: val_loss improved from 0.33547 to 0.31779, saving model to keras_model\n",
      "Epoch 5/8\n",
      "374/374 [==============================] - 1247s 3s/step - loss: 0.3269 - categorical_crossentropy: 0.3269 - val_loss: 0.3348 - val_categorical_crossentropy: 0.3348\n",
      "\n",
      "Epoch 00005: val_loss did not improve from 0.31779\n",
      "Epoch 6/8\n",
      "374/374 [==============================] - 1213s 3s/step - loss: 0.4227 - categorical_crossentropy: 0.4227 - val_loss: 0.4240 - val_categorical_crossentropy: 0.4240\n",
      "\n",
      "Epoch 00006: val_loss did not improve from 0.31779\n",
      "Epoch 7/8\n",
      "374/374 [==============================] - 1209s 3s/step - loss: 0.3183 - categorical_crossentropy: 0.3183 - val_loss: 0.2841 - val_categorical_crossentropy: 0.2841\n",
      "\n",
      "Epoch 00007: val_loss improved from 0.31779 to 0.28408, saving model to keras_model\n",
      "Epoch 8/8\n",
      "374/374 [==============================] - 1233s 3s/step - loss: 0.2379 - categorical_crossentropy: 0.2379 - val_loss: 0.2586 - val_categorical_crossentropy: 0.2586\n",
      "\n",
      "Epoch 00008: val_loss improved from 0.28408 to 0.25864, saving model to keras_model\n"
     ]
    },
    {
     "data": {
      "text/plain": [
       "<tensorflow.python.keras.callbacks.History at 0x7f4305754bd0>"
      ]
     },
     "execution_count": 40,
     "metadata": {},
     "output_type": "execute_result"
    }
   ],
   "source": [
    "batch_size = 32\n",
    "model.fit(X_train, Y_train, epochs=8, batch_size=batch_size, validation_split=0.2, callbacks=[ckpt_callback])"
   ]
  },
  {
   "cell_type": "code",
   "execution_count": 41,
   "id": "lesbian-series",
   "metadata": {
    "execution": {
     "iopub.execute_input": "2021-04-09T12:53:18.653498Z",
     "iopub.status.busy": "2021-04-09T12:53:18.652397Z",
     "iopub.status.idle": "2021-04-09T12:53:39.637966Z",
     "shell.execute_reply": "2021-04-09T12:53:39.637317Z"
    },
    "papermill": {
     "duration": 22.090111,
     "end_time": "2021-04-09T12:53:39.638136",
     "exception": false,
     "start_time": "2021-04-09T12:53:17.548025",
     "status": "completed"
    },
    "tags": []
   },
   "outputs": [
    {
     "name": "stdout",
     "output_type": "stream",
     "text": [
      "Log loss: 0.27220103942708207\n",
      "Accuracy: 0.9170235546038544\n"
     ]
    }
   ],
   "source": [
    "from sklearn.metrics import log_loss, accuracy_score\n",
    "model = load_model('keras_model')\n",
    "probas = model.predict(X_test)\n",
    "pred_indices = np.argmax(probas, axis=1)\n",
    "classes = np.array(range(0, 15))\n",
    "preds = classes[pred_indices]\n",
    "print('Log loss: {}'.format(log_loss(classes[np.argmax(Y_test, axis=1)], probas)))\n",
    "print('Accuracy: {}'.format(accuracy_score(classes[np.argmax(Y_test, axis=1)], preds)))"
   ]
  },
  {
   "cell_type": "code",
   "execution_count": null,
   "metadata": {},
   "outputs": [],
   "source": [
    "# We can train it for more epochs to get good accuracy as each epoch is taking huge time, but if run on good GPU, we can get good accuracy:)"
   ]
  },
  {
   "cell_type": "code",
   "execution_count": 42,
   "id": "spectacular-still",
   "metadata": {
    "execution": {
     "iopub.execute_input": "2021-04-09T12:53:42.089810Z",
     "iopub.status.busy": "2021-04-09T12:53:42.088740Z",
     "iopub.status.idle": "2021-04-09T12:53:42.101256Z",
     "shell.execute_reply": "2021-04-09T12:53:42.102722Z"
    },
    "papermill": {
     "duration": 1.354944,
     "end_time": "2021-04-09T12:53:42.103048",
     "exception": false,
     "start_time": "2021-04-09T12:53:40.748104",
     "status": "completed"
    },
    "tags": []
   },
   "outputs": [],
   "source": [
    "# Ref.: https://www.kaggle.com/abhishek/distilbert-use-features-oof/notebook\n",
    "\n",
    "def chunks(l, n):\n",
    "    for i in range(0, len(l), n):\n",
    "        yield l[i:i + n]\n",
    "\n",
    "\n",
    "def fetch_vectors(string_list, batch_size=64):\n",
    "    # inspired by https://jalammar.github.io/a-visual-guide-to-using-bert-for-the-first-time/\n",
    "    DEVICE = torch.device(\"cuda\" if torch.cuda.is_available() else \"cpu\")\n",
    "    tokenizer = transformers.DistilBertTokenizer.from_pretrained(\"../input/distilbertbaseuncased/\")\n",
    "    model = transformers.DistilBertModel.from_pretrained(\"../input/distilbertbaseuncased/\")\n",
    "    model.to(DEVICE)\n",
    "\n",
    "    fin_features = []\n",
    "    total = len(string_list) // batch_size + 1\n",
    "    for data in tqdm(chunks(string_list, batch_size), total=total):\n",
    "        tokenized = []\n",
    "        for x in data:\n",
    "            x = \" \".join(x.strip().split()[:300])\n",
    "            tok = tokenizer.encode(x, add_special_tokens=True)\n",
    "            tokenized.append(tok[:512])\n",
    "\n",
    "        max_len = 512\n",
    "        padded = np.array([i + [0] * (max_len - len(i)) for i in tokenized])\n",
    "        attention_mask = np.where(padded != 0, 1, 0)\n",
    "        input_ids = torch.tensor(padded).to(DEVICE)\n",
    "        attention_mask = torch.tensor(attention_mask).to(DEVICE)\n",
    "        \n",
    "        with torch.no_grad():\n",
    "            last_hidden_states = model(input_ids, attention_mask=attention_mask)\n",
    "\n",
    "        features = last_hidden_states[0][:, 0, :].cpu().numpy()\n",
    "        fin_features.append(features)\n",
    "\n",
    "    fin_features = np.vstack(fin_features)\n",
    "    return fin_features"
   ]
  },
  {
   "cell_type": "code",
   "execution_count": 43,
   "id": "turkish-cement",
   "metadata": {
    "execution": {
     "iopub.execute_input": "2021-04-09T12:53:44.474346Z",
     "iopub.status.busy": "2021-04-09T12:53:44.473475Z",
     "iopub.status.idle": "2021-04-09T12:53:45.797028Z",
     "shell.execute_reply": "2021-04-09T12:53:45.796373Z"
    },
    "papermill": {
     "duration": 2.448392,
     "end_time": "2021-04-09T12:53:45.797199",
     "exception": false,
     "start_time": "2021-04-09T12:53:43.348807",
     "status": "completed"
    },
    "tags": []
   },
   "outputs": [],
   "source": [
    "import torch\n",
    "import transformers\n",
    "from tqdm.notebook import tqdm\n",
    "# vectors = fetch_vectors(processed_df.description.values)\n",
    "# vectors.shape\n",
    "\n",
    "# Not running this command as I have run this command over Kaggle IDE. There We are having very less memory, But as we know,\n",
    "# Modelling over Bert Embeddings can give good score. Here I have used pretrained embeddings:"
   ]
  },
  {
   "cell_type": "code",
   "execution_count": 44,
   "id": "fossil-coaching",
   "metadata": {
    "execution": {
     "iopub.execute_input": "2021-04-09T12:53:48.004565Z",
     "iopub.status.busy": "2021-04-09T12:53:48.002896Z",
     "iopub.status.idle": "2021-04-09T12:53:48.005351Z",
     "shell.execute_reply": "2021-04-09T12:53:48.005928Z"
    },
    "papermill": {
     "duration": 1.106658,
     "end_time": "2021-04-09T12:53:48.006118",
     "exception": false,
     "start_time": "2021-04-09T12:53:46.899460",
     "status": "completed"
    },
    "tags": []
   },
   "outputs": [],
   "source": [
    "# np.save(\"vectors.npy\",vectors)"
   ]
  },
  {
   "cell_type": "code",
   "execution_count": 45,
   "id": "ideal-advantage",
   "metadata": {
    "execution": {
     "iopub.execute_input": "2021-04-09T12:53:50.209331Z",
     "iopub.status.busy": "2021-04-09T12:53:50.208316Z",
     "iopub.status.idle": "2021-04-09T12:53:50.212249Z",
     "shell.execute_reply": "2021-04-09T12:53:50.211730Z"
    },
    "papermill": {
     "duration": 1.107545,
     "end_time": "2021-04-09T12:53:50.212386",
     "exception": false,
     "start_time": "2021-04-09T12:53:49.104841",
     "status": "completed"
    },
    "tags": []
   },
   "outputs": [],
   "source": [
    "# For visualisation of Bert embeddings By TSNE \n",
    "\n",
    "# from sklearn.manifold import TSNE\n",
    "# reduced = TSNE(n_components=2).fit_transform(vectors)\n",
    "# reduced.shape"
   ]
  },
  {
   "cell_type": "code",
   "execution_count": null,
   "id": "animated-confirmation",
   "metadata": {
    "papermill": {
     "duration": 1.095916,
     "end_time": "2021-04-09T12:53:52.399741",
     "exception": false,
     "start_time": "2021-04-09T12:53:51.303825",
     "status": "completed"
    },
    "tags": []
   },
   "outputs": [],
   "source": []
  }
 ],
 "metadata": {
  "kernelspec": {
   "display_name": "Python 3",
   "language": "python",
   "name": "python3"
  },
  "language_info": {
   "codemirror_mode": {
    "name": "ipython",
    "version": 3
   },
   "file_extension": ".py",
   "mimetype": "text/x-python",
   "name": "python",
   "nbconvert_exporter": "python",
   "pygments_lexer": "ipython3",
   "version": "3.7.9"
  },
  "papermill": {
   "default_parameters": {},
   "duration": 10090.641604,
   "end_time": "2021-04-09T12:53:57.545417",
   "environment_variables": {},
   "exception": null,
   "input_path": "__notebook__.ipynb",
   "output_path": "__notebook__.ipynb",
   "parameters": {},
   "start_time": "2021-04-09T10:05:46.903813",
   "version": "2.3.2"
  }
 },
 "nbformat": 4,
 "nbformat_minor": 5
}