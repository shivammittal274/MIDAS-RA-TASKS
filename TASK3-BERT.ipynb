{
 "cells": [
  {
   "cell_type": "code",
   "execution_count": 1,
   "id": "proper-airplane",
   "metadata": {
    "_cell_guid": "b1076dfc-b9ad-4769-8c92-a6c4dae69d19",
    "_uuid": "8f2839f25d086af736a60e9eeb907d3b93b6e0e5",
    "execution": {
     "iopub.execute_input": "2021-04-09T19:23:15.909915Z",
     "iopub.status.busy": "2021-04-09T19:23:15.909293Z",
     "iopub.status.idle": "2021-04-09T19:23:17.692169Z",
     "shell.execute_reply": "2021-04-09T19:23:17.691065Z"
    },
    "papermill": {
     "duration": 1.80823,
     "end_time": "2021-04-09T19:23:17.692377",
     "exception": false,
     "start_time": "2021-04-09T19:23:15.884147",
     "status": "completed"
    },
    "tags": []
   },
   "outputs": [],
   "source": [
    "# This Python 3 environment comes with many helpful analytics libraries installed\n",
    "# It is defined by the kaggle/python Docker image: https://github.com/kaggle/docker-python\n",
    "# For example, here's several helpful packages to load\n",
    "\n",
    "import numpy as np # linear algebra\n",
    "import pandas as pd # data processing, CSV file I/O (e.g. pd.read_csv)\n",
    "import matplotlib.pyplot as plt\n",
    "import seaborn as sns\n",
    "\n",
    "import warnings\n",
    "warnings.filterwarnings(\"ignore\")\n",
    "import os\n",
    "import re \n",
    "import bz2\n",
    "import gc\n",
    "import chardet\n",
    "import nltk \n",
    "from sklearn import preprocessing\n",
    "\n",
    "\n",
    "from sklearn.model_selection import train_test_split\n",
    "from sklearn.neighbors import KNeighborsClassifier \n",
    "from sklearn.tree import DecisionTreeClassifier\n",
    "from sklearn.naive_bayes import GaussianNB\n",
    "\n",
    "\n",
    "from sklearn.model_selection import train_test_split\n",
    "from sklearn.feature_extraction.text import CountVectorizer\n",
    "from sklearn.metrics import classification_report\n",
    "from sklearn.feature_extraction.text import TfidfVectorizer"
   ]
  },
  {
   "cell_type": "code",
   "execution_count": null,
   "id": "blind-rating",
   "metadata": {
    "papermill": {
     "duration": 0.015378,
     "end_time": "2021-04-09T19:23:17.723976",
     "exception": false,
     "start_time": "2021-04-09T19:23:17.708598",
     "status": "completed"
    },
    "tags": []
   },
   "outputs": [],
   "source": []
  },
  {
   "cell_type": "code",
   "execution_count": 2,
   "id": "british-replacement",
   "metadata": {
    "execution": {
     "iopub.execute_input": "2021-04-09T19:23:17.770393Z",
     "iopub.status.busy": "2021-04-09T19:23:17.769871Z",
     "iopub.status.idle": "2021-04-09T19:23:18.671792Z",
     "shell.execute_reply": "2021-04-09T19:23:18.672214Z"
    },
    "papermill": {
     "duration": 0.932897,
     "end_time": "2021-04-09T19:23:18.672391",
     "exception": false,
     "start_time": "2021-04-09T19:23:17.739494",
     "status": "completed"
    },
    "tags": []
   },
   "outputs": [
    {
     "data": {
      "text/html": [
       "<div>\n",
       "<style scoped>\n",
       "    .dataframe tbody tr th:only-of-type {\n",
       "        vertical-align: middle;\n",
       "    }\n",
       "\n",
       "    .dataframe tbody tr th {\n",
       "        vertical-align: top;\n",
       "    }\n",
       "\n",
       "    .dataframe thead th {\n",
       "        text-align: right;\n",
       "    }\n",
       "</style>\n",
       "<table border=\"1\" class=\"dataframe\">\n",
       "  <thead>\n",
       "    <tr style=\"text-align: right;\">\n",
       "      <th></th>\n",
       "      <th>uniq_id</th>\n",
       "      <th>crawl_timestamp</th>\n",
       "      <th>product_url</th>\n",
       "      <th>product_name</th>\n",
       "      <th>product_category_tree</th>\n",
       "      <th>pid</th>\n",
       "      <th>retail_price</th>\n",
       "      <th>discounted_price</th>\n",
       "      <th>image</th>\n",
       "      <th>is_FK_Advantage_product</th>\n",
       "      <th>description</th>\n",
       "      <th>product_rating</th>\n",
       "      <th>overall_rating</th>\n",
       "      <th>brand</th>\n",
       "      <th>product_specifications</th>\n",
       "    </tr>\n",
       "  </thead>\n",
       "  <tbody>\n",
       "    <tr>\n",
       "      <th>0</th>\n",
       "      <td>c2d766ca982eca8304150849735ffef9</td>\n",
       "      <td>2016-03-25 22:59:23 +0000</td>\n",
       "      <td>http://www.flipkart.com/alisha-solid-women-s-c...</td>\n",
       "      <td>Alisha Solid Women's Cycling Shorts</td>\n",
       "      <td>[\"Clothing &gt;&gt; Women's Clothing &gt;&gt; Lingerie, Sl...</td>\n",
       "      <td>SRTEH2FF9KEDEFGF</td>\n",
       "      <td>999.0</td>\n",
       "      <td>379.0</td>\n",
       "      <td>[\"http://img5a.flixcart.com/image/short/u/4/a/...</td>\n",
       "      <td>False</td>\n",
       "      <td>Key Features of Alisha Solid Women's Cycling S...</td>\n",
       "      <td>No rating available</td>\n",
       "      <td>No rating available</td>\n",
       "      <td>Alisha</td>\n",
       "      <td>{\"product_specification\"=&gt;[{\"key\"=&gt;\"Number of ...</td>\n",
       "    </tr>\n",
       "    <tr>\n",
       "      <th>1</th>\n",
       "      <td>7f7036a6d550aaa89d34c77bd39a5e48</td>\n",
       "      <td>2016-03-25 22:59:23 +0000</td>\n",
       "      <td>http://www.flipkart.com/fabhomedecor-fabric-do...</td>\n",
       "      <td>FabHomeDecor Fabric Double Sofa Bed</td>\n",
       "      <td>[\"Furniture &gt;&gt; Living Room Furniture &gt;&gt; Sofa B...</td>\n",
       "      <td>SBEEH3QGU7MFYJFY</td>\n",
       "      <td>32157.0</td>\n",
       "      <td>22646.0</td>\n",
       "      <td>[\"http://img6a.flixcart.com/image/sofa-bed/j/f...</td>\n",
       "      <td>False</td>\n",
       "      <td>FabHomeDecor Fabric Double Sofa Bed (Finish Co...</td>\n",
       "      <td>No rating available</td>\n",
       "      <td>No rating available</td>\n",
       "      <td>FabHomeDecor</td>\n",
       "      <td>{\"product_specification\"=&gt;[{\"key\"=&gt;\"Installati...</td>\n",
       "    </tr>\n",
       "    <tr>\n",
       "      <th>2</th>\n",
       "      <td>f449ec65dcbc041b6ae5e6a32717d01b</td>\n",
       "      <td>2016-03-25 22:59:23 +0000</td>\n",
       "      <td>http://www.flipkart.com/aw-bellies/p/itmeh4grg...</td>\n",
       "      <td>AW Bellies</td>\n",
       "      <td>[\"Footwear &gt;&gt; Women's Footwear &gt;&gt; Ballerinas &gt;...</td>\n",
       "      <td>SHOEH4GRSUBJGZXE</td>\n",
       "      <td>999.0</td>\n",
       "      <td>499.0</td>\n",
       "      <td>[\"http://img5a.flixcart.com/image/shoe/7/z/z/r...</td>\n",
       "      <td>False</td>\n",
       "      <td>Key Features of AW Bellies Sandals Wedges Heel...</td>\n",
       "      <td>No rating available</td>\n",
       "      <td>No rating available</td>\n",
       "      <td>AW</td>\n",
       "      <td>{\"product_specification\"=&gt;[{\"key\"=&gt;\"Ideal For\"...</td>\n",
       "    </tr>\n",
       "    <tr>\n",
       "      <th>3</th>\n",
       "      <td>0973b37acd0c664e3de26e97e5571454</td>\n",
       "      <td>2016-03-25 22:59:23 +0000</td>\n",
       "      <td>http://www.flipkart.com/alisha-solid-women-s-c...</td>\n",
       "      <td>Alisha Solid Women's Cycling Shorts</td>\n",
       "      <td>[\"Clothing &gt;&gt; Women's Clothing &gt;&gt; Lingerie, Sl...</td>\n",
       "      <td>SRTEH2F6HUZMQ6SJ</td>\n",
       "      <td>699.0</td>\n",
       "      <td>267.0</td>\n",
       "      <td>[\"http://img5a.flixcart.com/image/short/6/2/h/...</td>\n",
       "      <td>False</td>\n",
       "      <td>Key Features of Alisha Solid Women's Cycling S...</td>\n",
       "      <td>No rating available</td>\n",
       "      <td>No rating available</td>\n",
       "      <td>Alisha</td>\n",
       "      <td>{\"product_specification\"=&gt;[{\"key\"=&gt;\"Number of ...</td>\n",
       "    </tr>\n",
       "    <tr>\n",
       "      <th>4</th>\n",
       "      <td>bc940ea42ee6bef5ac7cea3fb5cfbee7</td>\n",
       "      <td>2016-03-25 22:59:23 +0000</td>\n",
       "      <td>http://www.flipkart.com/sicons-all-purpose-arn...</td>\n",
       "      <td>Sicons All Purpose Arnica Dog Shampoo</td>\n",
       "      <td>[\"Pet Supplies &gt;&gt; Grooming &gt;&gt; Skin &amp; Coat Care...</td>\n",
       "      <td>PSOEH3ZYDMSYARJ5</td>\n",
       "      <td>220.0</td>\n",
       "      <td>210.0</td>\n",
       "      <td>[\"http://img5a.flixcart.com/image/pet-shampoo/...</td>\n",
       "      <td>False</td>\n",
       "      <td>Specifications of Sicons All Purpose Arnica Do...</td>\n",
       "      <td>No rating available</td>\n",
       "      <td>No rating available</td>\n",
       "      <td>Sicons</td>\n",
       "      <td>{\"product_specification\"=&gt;[{\"key\"=&gt;\"Pet Type\",...</td>\n",
       "    </tr>\n",
       "  </tbody>\n",
       "</table>\n",
       "</div>"
      ],
      "text/plain": [
       "                            uniq_id            crawl_timestamp  \\\n",
       "0  c2d766ca982eca8304150849735ffef9  2016-03-25 22:59:23 +0000   \n",
       "1  7f7036a6d550aaa89d34c77bd39a5e48  2016-03-25 22:59:23 +0000   \n",
       "2  f449ec65dcbc041b6ae5e6a32717d01b  2016-03-25 22:59:23 +0000   \n",
       "3  0973b37acd0c664e3de26e97e5571454  2016-03-25 22:59:23 +0000   \n",
       "4  bc940ea42ee6bef5ac7cea3fb5cfbee7  2016-03-25 22:59:23 +0000   \n",
       "\n",
       "                                         product_url  \\\n",
       "0  http://www.flipkart.com/alisha-solid-women-s-c...   \n",
       "1  http://www.flipkart.com/fabhomedecor-fabric-do...   \n",
       "2  http://www.flipkart.com/aw-bellies/p/itmeh4grg...   \n",
       "3  http://www.flipkart.com/alisha-solid-women-s-c...   \n",
       "4  http://www.flipkart.com/sicons-all-purpose-arn...   \n",
       "\n",
       "                            product_name  \\\n",
       "0    Alisha Solid Women's Cycling Shorts   \n",
       "1    FabHomeDecor Fabric Double Sofa Bed   \n",
       "2                             AW Bellies   \n",
       "3    Alisha Solid Women's Cycling Shorts   \n",
       "4  Sicons All Purpose Arnica Dog Shampoo   \n",
       "\n",
       "                               product_category_tree               pid  \\\n",
       "0  [\"Clothing >> Women's Clothing >> Lingerie, Sl...  SRTEH2FF9KEDEFGF   \n",
       "1  [\"Furniture >> Living Room Furniture >> Sofa B...  SBEEH3QGU7MFYJFY   \n",
       "2  [\"Footwear >> Women's Footwear >> Ballerinas >...  SHOEH4GRSUBJGZXE   \n",
       "3  [\"Clothing >> Women's Clothing >> Lingerie, Sl...  SRTEH2F6HUZMQ6SJ   \n",
       "4  [\"Pet Supplies >> Grooming >> Skin & Coat Care...  PSOEH3ZYDMSYARJ5   \n",
       "\n",
       "   retail_price  discounted_price  \\\n",
       "0         999.0             379.0   \n",
       "1       32157.0           22646.0   \n",
       "2         999.0             499.0   \n",
       "3         699.0             267.0   \n",
       "4         220.0             210.0   \n",
       "\n",
       "                                               image  is_FK_Advantage_product  \\\n",
       "0  [\"http://img5a.flixcart.com/image/short/u/4/a/...                    False   \n",
       "1  [\"http://img6a.flixcart.com/image/sofa-bed/j/f...                    False   \n",
       "2  [\"http://img5a.flixcart.com/image/shoe/7/z/z/r...                    False   \n",
       "3  [\"http://img5a.flixcart.com/image/short/6/2/h/...                    False   \n",
       "4  [\"http://img5a.flixcart.com/image/pet-shampoo/...                    False   \n",
       "\n",
       "                                         description       product_rating  \\\n",
       "0  Key Features of Alisha Solid Women's Cycling S...  No rating available   \n",
       "1  FabHomeDecor Fabric Double Sofa Bed (Finish Co...  No rating available   \n",
       "2  Key Features of AW Bellies Sandals Wedges Heel...  No rating available   \n",
       "3  Key Features of Alisha Solid Women's Cycling S...  No rating available   \n",
       "4  Specifications of Sicons All Purpose Arnica Do...  No rating available   \n",
       "\n",
       "        overall_rating         brand  \\\n",
       "0  No rating available        Alisha   \n",
       "1  No rating available  FabHomeDecor   \n",
       "2  No rating available            AW   \n",
       "3  No rating available        Alisha   \n",
       "4  No rating available        Sicons   \n",
       "\n",
       "                              product_specifications  \n",
       "0  {\"product_specification\"=>[{\"key\"=>\"Number of ...  \n",
       "1  {\"product_specification\"=>[{\"key\"=>\"Installati...  \n",
       "2  {\"product_specification\"=>[{\"key\"=>\"Ideal For\"...  \n",
       "3  {\"product_specification\"=>[{\"key\"=>\"Number of ...  \n",
       "4  {\"product_specification\"=>[{\"key\"=>\"Pet Type\",...  "
      ]
     },
     "execution_count": 2,
     "metadata": {},
     "output_type": "execute_result"
    }
   ],
   "source": [
    "data=pd.read_csv(\"../input/flipkarttask/flipkart_com-ecommerce_sample - flipkart_com-ecommerce_sample - flipkart_com-ecommerce_sample.csv\")\n",
    "data.head(5)"
   ]
  },
  {
   "cell_type": "code",
   "execution_count": 3,
   "id": "veterinary-listing",
   "metadata": {
    "execution": {
     "iopub.execute_input": "2021-04-09T19:23:18.731831Z",
     "iopub.status.busy": "2021-04-09T19:23:18.731052Z",
     "iopub.status.idle": "2021-04-09T19:23:18.737985Z",
     "shell.execute_reply": "2021-04-09T19:23:18.737501Z"
    },
    "papermill": {
     "duration": 0.047915,
     "end_time": "2021-04-09T19:23:18.738089",
     "exception": false,
     "start_time": "2021-04-09T19:23:18.690174",
     "status": "completed"
    },
    "tags": []
   },
   "outputs": [
    {
     "data": {
      "text/plain": [
       "uniq_id                       0\n",
       "crawl_timestamp               0\n",
       "product_url                   0\n",
       "product_name                  0\n",
       "product_category_tree         0\n",
       "pid                           0\n",
       "retail_price                 78\n",
       "discounted_price             78\n",
       "image                         3\n",
       "is_FK_Advantage_product       0\n",
       "description                   2\n",
       "product_rating                0\n",
       "overall_rating                0\n",
       "brand                      5864\n",
       "product_specifications       14\n",
       "dtype: int64"
      ]
     },
     "execution_count": 3,
     "metadata": {},
     "output_type": "execute_result"
    }
   ],
   "source": [
    "data.isnull().sum()"
   ]
  },
  {
   "cell_type": "code",
   "execution_count": 4,
   "id": "invalid-authority",
   "metadata": {
    "execution": {
     "iopub.execute_input": "2021-04-09T19:23:18.780187Z",
     "iopub.status.busy": "2021-04-09T19:23:18.779024Z",
     "iopub.status.idle": "2021-04-09T19:23:18.782450Z",
     "shell.execute_reply": "2021-04-09T19:23:18.782848Z"
    },
    "papermill": {
     "duration": 0.028187,
     "end_time": "2021-04-09T19:23:18.782966",
     "exception": false,
     "start_time": "2021-04-09T19:23:18.754779",
     "status": "completed"
    },
    "tags": []
   },
   "outputs": [
    {
     "data": {
      "text/plain": [
       "uniq_id                     object\n",
       "crawl_timestamp             object\n",
       "product_url                 object\n",
       "product_name                object\n",
       "product_category_tree       object\n",
       "pid                         object\n",
       "retail_price               float64\n",
       "discounted_price           float64\n",
       "image                       object\n",
       "is_FK_Advantage_product       bool\n",
       "description                 object\n",
       "product_rating              object\n",
       "overall_rating              object\n",
       "brand                       object\n",
       "product_specifications      object\n",
       "dtype: object"
      ]
     },
     "execution_count": 4,
     "metadata": {},
     "output_type": "execute_result"
    }
   ],
   "source": [
    "data.dtypes"
   ]
  },
  {
   "cell_type": "code",
   "execution_count": 5,
   "id": "impossible-berlin",
   "metadata": {
    "execution": {
     "iopub.execute_input": "2021-04-09T19:23:18.825264Z",
     "iopub.status.busy": "2021-04-09T19:23:18.823298Z",
     "iopub.status.idle": "2021-04-09T19:23:18.825905Z",
     "shell.execute_reply": "2021-04-09T19:23:18.826338Z"
    },
    "papermill": {
     "duration": 0.026181,
     "end_time": "2021-04-09T19:23:18.826460",
     "exception": false,
     "start_time": "2021-04-09T19:23:18.800279",
     "status": "completed"
    },
    "tags": []
   },
   "outputs": [],
   "source": [
    "def preprocess_string(str_arg):\n",
    "    '''\n",
    "    input: str_arg --> Takes string to clean\n",
    "    output: cleaned_str --> Gives back cleaned string\n",
    "    This fuction cleans the text in the mentioned ways as comments after the line.This has been copied from some other kernel.\n",
    "\n",
    "    '''\n",
    "    cleaned_str=re.sub('[^a-z\\s]+',' ',str_arg,flags=re.IGNORECASE) #every char except alphabets is replaced\n",
    "    cleaned_str=re.sub('(\\s+)',' ',cleaned_str) #multiple spaces are replaced by single space\n",
    "    cleaned_str=cleaned_str.lower() #converting the cleaned string to lower case\n",
    "    \n",
    "    return cleaned_str # Returning the preprocessed string in tokenized form"
   ]
  },
  {
   "cell_type": "code",
   "execution_count": 6,
   "id": "damaged-documentation",
   "metadata": {
    "execution": {
     "iopub.execute_input": "2021-04-09T19:23:18.872001Z",
     "iopub.status.busy": "2021-04-09T19:23:18.866595Z",
     "iopub.status.idle": "2021-04-09T19:23:18.887559Z",
     "shell.execute_reply": "2021-04-09T19:23:18.887982Z"
    },
    "papermill": {
     "duration": 0.043975,
     "end_time": "2021-04-09T19:23:18.888113",
     "exception": false,
     "start_time": "2021-04-09T19:23:18.844138",
     "status": "completed"
    },
    "tags": []
   },
   "outputs": [],
   "source": [
    "# Reading relevant data\n",
    "data['product_category_tree'] = data['product_category_tree'].apply(lambda x : x.split('>>')[0][2:].strip())"
   ]
  },
  {
   "cell_type": "code",
   "execution_count": 7,
   "id": "technical-soviet",
   "metadata": {
    "execution": {
     "iopub.execute_input": "2021-04-09T19:23:18.937232Z",
     "iopub.status.busy": "2021-04-09T19:23:18.935781Z",
     "iopub.status.idle": "2021-04-09T19:23:18.938342Z",
     "shell.execute_reply": "2021-04-09T19:23:18.938845Z"
    },
    "papermill": {
     "duration": 0.032101,
     "end_time": "2021-04-09T19:23:18.938974",
     "exception": false,
     "start_time": "2021-04-09T19:23:18.906873",
     "status": "completed"
    },
    "tags": []
   },
   "outputs": [],
   "source": [
    "d=data[\"product_category_tree\"].value_counts().to_dict()\n",
    "lists = (d.items()) # sorted by key, return a list of tuples"
   ]
  },
  {
   "cell_type": "code",
   "execution_count": 8,
   "id": "progressive-sponsorship",
   "metadata": {
    "execution": {
     "iopub.execute_input": "2021-04-09T19:23:18.979473Z",
     "iopub.status.busy": "2021-04-09T19:23:18.978791Z",
     "iopub.status.idle": "2021-04-09T19:23:24.738349Z",
     "shell.execute_reply": "2021-04-09T19:23:24.737811Z"
    },
    "papermill": {
     "duration": 5.781087,
     "end_time": "2021-04-09T19:23:24.738482",
     "exception": false,
     "start_time": "2021-04-09T19:23:18.957395",
     "status": "completed"
    },
    "tags": []
   },
   "outputs": [
    {
     "data": {
      "image/png": "[encoded data removed]",
      "text/plain": [
       "<Figure size 432x288 with 1 Axes>"
      ]
     },
     "metadata": {
      "needs_background": "light"
     },
     "output_type": "display_data"
    }
   ],
   "source": [
    "import matplotlib.pylab as plt\n",
    "x, y = zip(*lists) # unpack a list of pairs into two tuples\n",
    "\n",
    "plt.plot(x, y)\n",
    "plt.show()"
   ]
  },
  {
   "cell_type": "code",
   "execution_count": 9,
   "id": "romance-karma",
   "metadata": {
    "execution": {
     "iopub.execute_input": "2021-04-09T19:23:24.788078Z",
     "iopub.status.busy": "2021-04-09T19:23:24.787496Z",
     "iopub.status.idle": "2021-04-09T19:23:26.385548Z",
     "shell.execute_reply": "2021-04-09T19:23:26.385969Z"
    },
    "papermill": {
     "duration": 1.62853,
     "end_time": "2021-04-09T19:23:26.386115",
     "exception": false,
     "start_time": "2021-04-09T19:23:24.757585",
     "status": "completed"
    },
    "tags": []
   },
   "outputs": [
    {
     "name": "stdout",
     "output_type": "stream",
     "text": [
      "['Clothing', 'Footwear', 'Pens & Stationery', 'Beauty and Personal Care', 'Home Decor & Festive Needs', 'Automotive', 'Tools & Hardware', 'Home Furnishing', 'Baby Care', 'Mobiles & Accessories', 'Watches', 'Toys & School Supplies', 'Jewellery', 'Kitchen & Dining', 'Computers']\n"
     ]
    }
   ],
   "source": [
    "# Category processing. (Check data to understand)\n",
    "# Taking most popular 20 items only\n",
    "top_15_gen = list(data.groupby('product_category_tree').count().sort_values(by='uniq_id',ascending=False).head(15).index)\n",
    "# Taking only top 5 categories for example sake\n",
    "processed_df = data[data['product_category_tree'].isin(top_15_gen)][['product_category_tree','description']]\n",
    "# Selecting only relevant columns\n",
    "processed_df['description'] = data['description'].astype('str').apply(preprocess_string)\n",
    "# Cleaning strings\n",
    "cat_list = list(processed_df['product_category_tree'].unique())\n",
    "# Creating a list of categories for later use\n",
    "print(cat_list)\n",
    "# Printing the list of top 5 categories\n",
    "le = preprocessing.LabelEncoder()\n",
    "category_encoded=le.fit_transform(processed_df['product_category_tree'])\n",
    "processed_df['product_category_tree'] = category_encoded\n",
    "# Encoding the product category"
   ]
  },
  {
   "cell_type": "code",
   "execution_count": 10,
   "id": "artistic-invitation",
   "metadata": {
    "execution": {
     "iopub.execute_input": "2021-04-09T19:23:26.428482Z",
     "iopub.status.busy": "2021-04-09T19:23:26.427439Z",
     "iopub.status.idle": "2021-04-09T19:23:26.432128Z",
     "shell.execute_reply": "2021-04-09T19:23:26.431735Z"
    },
    "papermill": {
     "duration": 0.02714,
     "end_time": "2021-04-09T19:23:26.432232",
     "exception": false,
     "start_time": "2021-04-09T19:23:26.405092",
     "status": "completed"
    },
    "tags": []
   },
   "outputs": [
    {
     "data": {
      "text/plain": [
       "(15,)"
      ]
     },
     "execution_count": 10,
     "metadata": {},
     "output_type": "execute_result"
    }
   ],
   "source": [
    "processed_df[\"product_category_tree\"].unique().shape"
   ]
  },
  {
   "cell_type": "code",
   "execution_count": 11,
   "id": "turkish-cloud",
   "metadata": {
    "execution": {
     "iopub.execute_input": "2021-04-09T19:23:26.478643Z",
     "iopub.status.busy": "2021-04-09T19:23:26.477841Z",
     "iopub.status.idle": "2021-04-09T19:23:26.482241Z",
     "shell.execute_reply": "2021-04-09T19:23:26.481784Z"
    },
    "papermill": {
     "duration": 0.031068,
     "end_time": "2021-04-09T19:23:26.482365",
     "exception": false,
     "start_time": "2021-04-09T19:23:26.451297",
     "status": "completed"
    },
    "tags": []
   },
   "outputs": [
    {
     "data": {
      "text/plain": [
       "product_category_tree    0\n",
       "description              0\n",
       "dtype: int64"
      ]
     },
     "execution_count": 11,
     "metadata": {},
     "output_type": "execute_result"
    }
   ],
   "source": [
    "processed_df.isnull().sum()"
   ]
  },
  {
   "cell_type": "code",
   "execution_count": 12,
   "id": "every-episode",
   "metadata": {
    "execution": {
     "iopub.execute_input": "2021-04-09T19:23:26.525954Z",
     "iopub.status.busy": "2021-04-09T19:23:26.525365Z",
     "iopub.status.idle": "2021-04-09T19:23:26.528784Z",
     "shell.execute_reply": "2021-04-09T19:23:26.528222Z"
    },
    "papermill": {
     "duration": 0.026782,
     "end_time": "2021-04-09T19:23:26.528891",
     "exception": false,
     "start_time": "2021-04-09T19:23:26.502109",
     "status": "completed"
    },
    "tags": []
   },
   "outputs": [],
   "source": [
    "train=processed_df.copy()"
   ]
  },
  {
   "cell_type": "code",
   "execution_count": 13,
   "id": "horizontal-boundary",
   "metadata": {
    "execution": {
     "iopub.execute_input": "2021-04-09T19:23:26.574292Z",
     "iopub.status.busy": "2021-04-09T19:23:26.573536Z",
     "iopub.status.idle": "2021-04-09T19:23:26.576082Z",
     "shell.execute_reply": "2021-04-09T19:23:26.576615Z"
    },
    "papermill": {
     "duration": 0.028076,
     "end_time": "2021-04-09T19:23:26.576734",
     "exception": false,
     "start_time": "2021-04-09T19:23:26.548658",
     "status": "completed"
    },
    "tags": []
   },
   "outputs": [],
   "source": [
    "from nltk.tokenize import WordPunctTokenizer\n",
    "tok = WordPunctTokenizer()\n",
    "symbols = r'@[A-Za-z0-9]+'\n",
    "url = r'https?://[A-Za-z0-9./]+'\n",
    "remove = r'|'.join((symbols, url))\n",
    "def cleaning_data(text):\n",
    "#     soup = BeautifulSoup(text, 'lxml')\n",
    "#     souped = soup.get_text()\n",
    "    clean = re.sub(remove, '', text)\n",
    "   \n",
    "    letters = re.sub(\"[^a-zA-Z]\", ' ', clean)\n",
    "    lower = letters.lower()\n",
    "\n",
    "    words = tok.tokenize(lower)\n",
    "    return \" \".join(words).strip()\n",
    "    #return lower"
   ]
  },
  {
   "cell_type": "code",
   "execution_count": 14,
   "id": "working-energy",
   "metadata": {
    "execution": {
     "iopub.execute_input": "2021-04-09T19:23:26.646242Z",
     "iopub.status.busy": "2021-04-09T19:23:26.636014Z",
     "iopub.status.idle": "2021-04-09T19:23:27.879692Z",
     "shell.execute_reply": "2021-04-09T19:23:27.879209Z"
    },
    "papermill": {
     "duration": 1.283193,
     "end_time": "2021-04-09T19:23:27.879825",
     "exception": false,
     "start_time": "2021-04-09T19:23:26.596632",
     "status": "completed"
    },
    "tags": []
   },
   "outputs": [],
   "source": [
    "train[\"description\"]=train[\"description\"].apply(cleaning_data)"
   ]
  },
  {
   "cell_type": "code",
   "execution_count": 15,
   "id": "diagnostic-superior",
   "metadata": {
    "execution": {
     "iopub.execute_input": "2021-04-09T19:23:27.924802Z",
     "iopub.status.busy": "2021-04-09T19:23:27.924285Z",
     "iopub.status.idle": "2021-04-09T19:23:32.230817Z",
     "shell.execute_reply": "2021-04-09T19:23:32.230273Z"
    },
    "papermill": {
     "duration": 4.330673,
     "end_time": "2021-04-09T19:23:32.230962",
     "exception": false,
     "start_time": "2021-04-09T19:23:27.900289",
     "status": "completed"
    },
    "tags": []
   },
   "outputs": [],
   "source": [
    "import numpy as np\n",
    "import pandas as pd\n",
    "import tensorflow as tf\n",
    "from tensorflow.keras.layers import Dense, Input\n",
    "from tensorflow.keras.optimizers import Adam\n",
    "from tensorflow.keras.models import Model\n",
    "from tensorflow.keras.callbacks import ModelCheckpoint\n",
    "import tensorflow_hub as hub"
   ]
  },
  {
   "cell_type": "code",
   "execution_count": 16,
   "id": "terminal-albany",
   "metadata": {
    "execution": {
     "iopub.execute_input": "2021-04-09T19:23:32.306838Z",
     "iopub.status.busy": "2021-04-09T19:23:32.306121Z",
     "iopub.status.idle": "2021-04-09T19:23:33.326983Z",
     "shell.execute_reply": "2021-04-09T19:23:33.326498Z"
    },
    "papermill": {
     "duration": 1.073801,
     "end_time": "2021-04-09T19:23:33.327116",
     "exception": false,
     "start_time": "2021-04-09T19:23:32.253315",
     "status": "completed"
    },
    "tags": []
   },
   "outputs": [],
   "source": [
    "!wget --quiet https://raw.githubusercontent.com/tensorflow/models/master/official/nlp/bert/tokenization.py\n",
    "import tokenization"
   ]
  },
  {
   "cell_type": "code",
   "execution_count": 17,
   "id": "controversial-layout",
   "metadata": {
    "execution": {
     "iopub.execute_input": "2021-04-09T19:23:33.378354Z",
     "iopub.status.busy": "2021-04-09T19:23:33.377775Z",
     "iopub.status.idle": "2021-04-09T19:23:33.381934Z",
     "shell.execute_reply": "2021-04-09T19:23:33.381502Z"
    },
    "papermill": {
     "duration": 0.034064,
     "end_time": "2021-04-09T19:23:33.382046",
     "exception": false,
     "start_time": "2021-04-09T19:23:33.347982",
     "status": "completed"
    },
    "tags": []
   },
   "outputs": [],
   "source": [
    "def bert_encode(texts, tokenizer, max_len=512):\n",
    "    all_tokens = []\n",
    "    all_masks = []\n",
    "    all_segments = []\n",
    "    \n",
    "    for text in texts:\n",
    "        text = tokenizer.tokenize(text)\n",
    "            \n",
    "        text = text[:max_len-2]\n",
    "        input_sequence = [\"[CLS]\"] + text + [\"[SEP]\"]\n",
    "        pad_len = max_len - len(input_sequence)\n",
    "        \n",
    "        tokens = tokenizer.convert_tokens_to_ids(input_sequence)\n",
    "        tokens += [0] * pad_len\n",
    "        pad_masks = [1] * len(input_sequence) + [0] * pad_len\n",
    "        segment_ids = [0] * max_len\n",
    "        \n",
    "        all_tokens.append(tokens)\n",
    "        all_masks.append(pad_masks)\n",
    "        all_segments.append(segment_ids)\n",
    "    \n",
    "    return np.array(all_tokens), np.array(all_masks), np.array(all_segments)\n",
    "def build_model(bert_layer, max_len=512):\n",
    "    input_word_ids = Input(shape=(max_len,), dtype=tf.int32, name=\"input_word_ids\")\n",
    "    input_mask = Input(shape=(max_len,), dtype=tf.int32, name=\"input_mask\")\n",
    "    segment_ids = Input(shape=(max_len,), dtype=tf.int32, name=\"segment_ids\")\n",
    "\n",
    "    _, sequence_output = bert_layer([input_word_ids, input_mask, segment_ids])\n",
    "    clf_output = sequence_output[:, 0, :]\n",
    "    out = Dense(15, activation='softmax')(clf_output)\n",
    "    \n",
    "    model = Model(inputs=[input_word_ids, input_mask, segment_ids], outputs=out)\n",
    "    model.compile(Adam(lr=5e-6), loss='binary_crossentropy', metrics=['accuracy'])\n",
    "    \n",
    "    return model"
   ]
  },
  {
   "cell_type": "code",
   "execution_count": 18,
   "id": "proprietary-channel",
   "metadata": {
    "execution": {
     "iopub.execute_input": "2021-04-09T19:23:33.426975Z",
     "iopub.status.busy": "2021-04-09T19:23:33.426472Z",
     "iopub.status.idle": "2021-04-09T19:24:06.994486Z",
     "shell.execute_reply": "2021-04-09T19:24:06.994930Z"
    },
    "papermill": {
     "duration": 33.592857,
     "end_time": "2021-04-09T19:24:06.995087",
     "exception": false,
     "start_time": "2021-04-09T19:23:33.402230",
     "status": "completed"
    },
    "tags": []
   },
   "outputs": [
    {
     "name": "stdout",
     "output_type": "stream",
     "text": [
      "CPU times: user 23.5 s, sys: 5.86 s, total: 29.3 s\n",
      "Wall time: 33.5 s\n"
     ]
    }
   ],
   "source": [
    "%%time\n",
    "module_url = \"https://tfhub.dev/tensorflow/bert_en_uncased_L-24_H-1024_A-16/1\"\n",
    "bert_layer = hub.KerasLayer(module_url, trainable=True)"
   ]
  },
  {
   "cell_type": "code",
   "execution_count": 19,
   "id": "disabled-directory",
   "metadata": {
    "execution": {
     "iopub.execute_input": "2021-04-09T19:24:07.041750Z",
     "iopub.status.busy": "2021-04-09T19:24:07.041190Z",
     "iopub.status.idle": "2021-04-09T19:24:07.151130Z",
     "shell.execute_reply": "2021-04-09T19:24:07.150677Z"
    },
    "papermill": {
     "duration": 0.135388,
     "end_time": "2021-04-09T19:24:07.151288",
     "exception": false,
     "start_time": "2021-04-09T19:24:07.015900",
     "status": "completed"
    },
    "tags": []
   },
   "outputs": [],
   "source": [
    "vocab_file = bert_layer.resolved_object.vocab_file.asset_path.numpy()\n",
    "do_lower_case = bert_layer.resolved_object.do_lower_case.numpy()\n",
    "tokenizer = tokenization.FullTokenizer(vocab_file, do_lower_case)"
   ]
  },
  {
   "cell_type": "code",
   "execution_count": 20,
   "id": "boxed-religious",
   "metadata": {
    "execution": {
     "iopub.execute_input": "2021-04-09T19:24:07.206068Z",
     "iopub.status.busy": "2021-04-09T19:24:07.205243Z",
     "iopub.status.idle": "2021-04-09T19:24:07.209650Z",
     "shell.execute_reply": "2021-04-09T19:24:07.210044Z"
    },
    "papermill": {
     "duration": 0.037653,
     "end_time": "2021-04-09T19:24:07.210185",
     "exception": false,
     "start_time": "2021-04-09T19:24:07.172532",
     "status": "completed"
    },
    "tags": []
   },
   "outputs": [
    {
     "data": {
      "text/html": [
       "<div>\n",
       "<style scoped>\n",
       "    .dataframe tbody tr th:only-of-type {\n",
       "        vertical-align: middle;\n",
       "    }\n",
       "\n",
       "    .dataframe tbody tr th {\n",
       "        vertical-align: top;\n",
       "    }\n",
       "\n",
       "    .dataframe thead th {\n",
       "        text-align: right;\n",
       "    }\n",
       "</style>\n",
       "<table border=\"1\" class=\"dataframe\">\n",
       "  <thead>\n",
       "    <tr style=\"text-align: right;\">\n",
       "      <th></th>\n",
       "      <th>product_category_tree</th>\n",
       "      <th>description</th>\n",
       "    </tr>\n",
       "  </thead>\n",
       "  <tbody>\n",
       "    <tr>\n",
       "      <th>0</th>\n",
       "      <td>3</td>\n",
       "      <td>key features of alisha solid women s cycling s...</td>\n",
       "    </tr>\n",
       "    <tr>\n",
       "      <th>2</th>\n",
       "      <td>5</td>\n",
       "      <td>key features of aw bellies sandals wedges heel...</td>\n",
       "    </tr>\n",
       "    <tr>\n",
       "      <th>3</th>\n",
       "      <td>3</td>\n",
       "      <td>key features of alisha solid women s cycling s...</td>\n",
       "    </tr>\n",
       "    <tr>\n",
       "      <th>6</th>\n",
       "      <td>3</td>\n",
       "      <td>key features of alisha solid women s cycling s...</td>\n",
       "    </tr>\n",
       "    <tr>\n",
       "      <th>8</th>\n",
       "      <td>5</td>\n",
       "      <td>key features of dilli bazaaar bellies corporat...</td>\n",
       "    </tr>\n",
       "    <tr>\n",
       "      <th>...</th>\n",
       "      <td>...</td>\n",
       "      <td>...</td>\n",
       "    </tr>\n",
       "    <tr>\n",
       "      <th>19995</th>\n",
       "      <td>1</td>\n",
       "      <td>buy walldesign small vinyl sticker for rs onli...</td>\n",
       "    </tr>\n",
       "    <tr>\n",
       "      <th>19996</th>\n",
       "      <td>1</td>\n",
       "      <td>buy wallmantra large vinyl stickers sticker fo...</td>\n",
       "    </tr>\n",
       "    <tr>\n",
       "      <th>19997</th>\n",
       "      <td>1</td>\n",
       "      <td>buy elite collection medium acrylic sticker fo...</td>\n",
       "    </tr>\n",
       "    <tr>\n",
       "      <th>19998</th>\n",
       "      <td>1</td>\n",
       "      <td>buy elite collection medium acrylic sticker fo...</td>\n",
       "    </tr>\n",
       "    <tr>\n",
       "      <th>19999</th>\n",
       "      <td>1</td>\n",
       "      <td>buy elite collection medium acrylic sticker fo...</td>\n",
       "    </tr>\n",
       "  </tbody>\n",
       "</table>\n",
       "<p>18678 rows × 2 columns</p>\n",
       "</div>"
      ],
      "text/plain": [
       "       product_category_tree  \\\n",
       "0                          3   \n",
       "2                          5   \n",
       "3                          3   \n",
       "6                          3   \n",
       "8                          5   \n",
       "...                      ...   \n",
       "19995                      1   \n",
       "19996                      1   \n",
       "19997                      1   \n",
       "19998                      1   \n",
       "19999                      1   \n",
       "\n",
       "                                             description  \n",
       "0      key features of alisha solid women s cycling s...  \n",
       "2      key features of aw bellies sandals wedges heel...  \n",
       "3      key features of alisha solid women s cycling s...  \n",
       "6      key features of alisha solid women s cycling s...  \n",
       "8      key features of dilli bazaaar bellies corporat...  \n",
       "...                                                  ...  \n",
       "19995  buy walldesign small vinyl sticker for rs onli...  \n",
       "19996  buy wallmantra large vinyl stickers sticker fo...  \n",
       "19997  buy elite collection medium acrylic sticker fo...  \n",
       "19998  buy elite collection medium acrylic sticker fo...  \n",
       "19999  buy elite collection medium acrylic sticker fo...  \n",
       "\n",
       "[18678 rows x 2 columns]"
      ]
     },
     "execution_count": 20,
     "metadata": {},
     "output_type": "execute_result"
    }
   ],
   "source": [
    "train"
   ]
  },
  {
   "cell_type": "code",
   "execution_count": 21,
   "id": "smoking-extent",
   "metadata": {
    "execution": {
     "iopub.execute_input": "2021-04-09T19:24:07.269805Z",
     "iopub.status.busy": "2021-04-09T19:24:07.264675Z",
     "iopub.status.idle": "2021-04-09T19:24:38.364578Z",
     "shell.execute_reply": "2021-04-09T19:24:38.365228Z"
    },
    "papermill": {
     "duration": 31.134465,
     "end_time": "2021-04-09T19:24:38.365460",
     "exception": false,
     "start_time": "2021-04-09T19:24:07.230995",
     "status": "completed"
    },
    "tags": []
   },
   "outputs": [],
   "source": [
    "train_input = bert_encode(train.description.values, tokenizer, max_len=160)\n",
    "train_labels = train.product_category_tree.values"
   ]
  },
  {
   "cell_type": "code",
   "execution_count": null,
   "id": "logical-figure",
   "metadata": {
    "papermill": {
     "duration": 0.021141,
     "end_time": "2021-04-09T19:24:38.413097",
     "exception": false,
     "start_time": "2021-04-09T19:24:38.391956",
     "status": "completed"
    },
    "tags": []
   },
   "outputs": [],
   "source": []
  },
  {
   "cell_type": "code",
   "execution_count": 22,
   "id": "eligible-basketball",
   "metadata": {
    "execution": {
     "iopub.execute_input": "2021-04-09T19:24:38.469037Z",
     "iopub.status.busy": "2021-04-09T19:24:38.468244Z",
     "iopub.status.idle": "2021-04-09T19:24:39.889903Z",
     "shell.execute_reply": "2021-04-09T19:24:39.889147Z"
    },
    "papermill": {
     "duration": 1.45191,
     "end_time": "2021-04-09T19:24:39.890070",
     "exception": false,
     "start_time": "2021-04-09T19:24:38.438160",
     "status": "completed"
    },
    "tags": []
   },
   "outputs": [
    {
     "name": "stdout",
     "output_type": "stream",
     "text": [
      "Model: \"model\"\n",
      "__________________________________________________________________________________________________\n",
      "Layer (type)                    Output Shape         Param #     Connected to                     \n",
      "==================================================================================================\n",
      "input_word_ids (InputLayer)     [(None, 160)]        0                                            \n",
      "__________________________________________________________________________________________________\n",
      "input_mask (InputLayer)         [(None, 160)]        0                                            \n",
      "__________________________________________________________________________________________________\n",
      "segment_ids (InputLayer)        [(None, 160)]        0                                            \n",
      "__________________________________________________________________________________________________\n",
      "keras_layer (KerasLayer)        [(None, 1024), (None 335141889   input_word_ids[0][0]             \n",
      "                                                                 input_mask[0][0]                 \n",
      "                                                                 segment_ids[0][0]                \n",
      "__________________________________________________________________________________________________\n",
      "tf.__operators__.getitem (Slici (None, 1024)         0           keras_layer[0][1]                \n",
      "__________________________________________________________________________________________________\n",
      "dense (Dense)                   (None, 15)           15375       tf.__operators__.getitem[0][0]   \n",
      "==================================================================================================\n",
      "Total params: 335,157,264\n",
      "Trainable params: 335,157,263\n",
      "Non-trainable params: 1\n",
      "__________________________________________________________________________________________________\n"
     ]
    }
   ],
   "source": [
    "model = build_model(bert_layer, max_len=160)\n",
    "model.summary()"
   ]
  },
  {
   "cell_type": "code",
   "execution_count": 23,
   "id": "noticed-simon",
   "metadata": {
    "execution": {
     "iopub.execute_input": "2021-04-09T19:24:39.939411Z",
     "iopub.status.busy": "2021-04-09T19:24:39.938716Z",
     "iopub.status.idle": "2021-04-09T19:24:39.993049Z",
     "shell.execute_reply": "2021-04-09T19:24:39.992543Z"
    },
    "papermill": {
     "duration": 0.080066,
     "end_time": "2021-04-09T19:24:39.993170",
     "exception": false,
     "start_time": "2021-04-09T19:24:39.913104",
     "status": "completed"
    },
    "tags": []
   },
   "outputs": [
    {
     "data": {
      "text/plain": [
       "(18678, 15)"
      ]
     },
     "execution_count": 23,
     "metadata": {},
     "output_type": "execute_result"
    }
   ],
   "source": [
    "# convert integers to dummy variables (i.e. one hot encoded)\n",
    "from keras.utils import np_utils\n",
    "dummy_y = np_utils.to_categorical(train_labels)\n",
    "dummy_y.shape"
   ]
  },
  {
   "cell_type": "code",
   "execution_count": 24,
   "id": "postal-recycling",
   "metadata": {
    "execution": {
     "iopub.execute_input": "2021-04-09T19:24:40.042020Z",
     "iopub.status.busy": "2021-04-09T19:24:40.041195Z",
     "iopub.status.idle": "2021-04-09T22:21:13.187030Z",
     "shell.execute_reply": "2021-04-09T22:21:13.188274Z"
    },
    "papermill": {
     "duration": 10593.17315,
     "end_time": "2021-04-09T22:21:13.188527",
     "exception": false,
     "start_time": "2021-04-09T19:24:40.015377",
     "status": "completed"
    },
    "tags": []
   },
   "outputs": [
    {
     "name": "stdout",
     "output_type": "stream",
     "text": [
      "Epoch 1/10\n",
      "1168/1168 [==============================] - 1085s 902ms/step - loss: 0.0952 - accuracy: 0.7758\n",
      "Epoch 2/10\n",
      "1168/1168 [==============================] - 1052s 901ms/step - loss: 0.0080 - accuracy: 0.9868\n",
      "Epoch 3/10\n",
      "1168/1168 [==============================] - 1053s 902ms/step - loss: 0.0040 - accuracy: 0.9933\n",
      "Epoch 4/10\n",
      "1168/1168 [==============================] - 1054s 903ms/step - loss: 0.0026 - accuracy: 0.9956\n",
      "Epoch 5/10\n",
      "1168/1168 [==============================] - 1053s 902ms/step - loss: 0.0016 - accuracy: 0.9972\n",
      "Epoch 6/10\n",
      "1168/1168 [==============================] - 1053s 901ms/step - loss: 0.0017 - accuracy: 0.9968\n",
      "Epoch 7/10\n",
      "1168/1168 [==============================] - 1052s 901ms/step - loss: 0.0017 - accuracy: 0.9968\n",
      "Epoch 8/10\n",
      "1168/1168 [==============================] - 1052s 901ms/step - loss: 7.6456e-04 - accuracy: 0.9986\n",
      "Epoch 9/10\n",
      "1168/1168 [==============================] - 1053s 902ms/step - loss: 8.7780e-04 - accuracy: 0.9980\n",
      "Epoch 10/10\n",
      "1168/1168 [==============================] - 1055s 903ms/step - loss: 6.0476e-04 - accuracy: 0.9989\n"
     ]
    }
   ],
   "source": [
    "train_history = model.fit(\n",
    "    train_input, dummy_y,\n",
    "    epochs=10,\n",
    "    batch_size=16\n",
    ")\n",
    "\n",
    "model.save('model.h5')"
   ]
  },
  {
   "cell_type": "code",
   "execution_count": 25,
   "id": "hawaiian-sight",
   "metadata": {
    "execution": {
     "iopub.execute_input": "2021-04-09T22:21:36.130803Z",
     "iopub.status.busy": "2021-04-09T22:21:36.129871Z",
     "iopub.status.idle": "2021-04-09T22:21:36.132465Z",
     "shell.execute_reply": "2021-04-09T22:21:36.132035Z"
    },
    "papermill": {
     "duration": 3.000081,
     "end_time": "2021-04-09T22:21:36.132582",
     "exception": false,
     "start_time": "2021-04-09T22:21:33.132501",
     "status": "completed"
    },
    "tags": []
   },
   "outputs": [],
   "source": [
    "#We could train it for more epochs so as to get good accuracy"
   ]
  },
  {
   "cell_type": "code",
   "execution_count": null,
   "id": "complex-hospital",
   "metadata": {
    "papermill": {
     "duration": 3.16259,
     "end_time": "2021-04-09T22:21:42.365139",
     "exception": false,
     "start_time": "2021-04-09T22:21:39.202549",
     "status": "completed"
    },
    "tags": []
   },
   "outputs": [],
   "source": []
  }
 ],
 "metadata": {
  "kernelspec": {
   "display_name": "Python 3",
   "language": "python",
   "name": "python3"
  },
  "language_info": {
   "codemirror_mode": {
    "name": "ipython",
    "version": 3
   },
   "file_extension": ".py",
   "mimetype": "text/x-python",
   "name": "python",
   "nbconvert_exporter": "python",
   "pygments_lexer": "ipython3",
   "version": "3.7.9"
  },
  "papermill": {
   "default_parameters": {},
   "duration": 10721.284102,
   "end_time": "2021-04-09T22:21:52.024246",
   "environment_variables": {},
   "exception": null,
   "input_path": "__notebook__.ipynb",
   "output_path": "__notebook__.ipynb",
   "parameters": {},
   "start_time": "2021-04-09T19:23:10.740144",
   "version": "2.3.2"
  }
 },
 "nbformat": 4,
 "nbformat_minor": 5
}
